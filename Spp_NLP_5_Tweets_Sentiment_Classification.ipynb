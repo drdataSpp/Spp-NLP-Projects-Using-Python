{
 "cells": [
  {
   "cell_type": "markdown",
   "metadata": {
    "id": "H5VH_F2TgY3C"
   },
   "source": [
    "# Tweets Sentiment Classification"
   ]
  },
  {
   "cell_type": "markdown",
   "metadata": {
    "id": "WwQc_Q9NgcxW"
   },
   "source": [
    "### By: Soorya Parthiban"
   ]
  },
  {
   "cell_type": "markdown",
   "metadata": {
    "id": "X2RjEHvrgi3_"
   },
   "source": [
    "## Problem Statement: Build a machine learning model to classify the tweet sentiments."
   ]
  },
  {
   "cell_type": "markdown",
   "metadata": {
    "id": "pAybeDD8OTEb"
   },
   "source": [
    "## Importing Library & Dataset"
   ]
  },
  {
   "cell_type": "code",
   "execution_count": 62,
   "metadata": {
    "colab": {
     "base_uri": "https://localhost:8080/"
    },
    "id": "aLPIp_hwMpuH",
    "outputId": "72012003-b243-4f6c-c317-ff9694e5693b"
   },
   "outputs": [
    {
     "name": "stderr",
     "output_type": "stream",
     "text": [
      "[nltk_data] Downloading package punkt to\n",
      "[nltk_data]     C:\\Users\\soory\\AppData\\Roaming\\nltk_data...\n",
      "[nltk_data]   Package punkt is already up-to-date!\n",
      "[nltk_data] Downloading package stopwords to\n",
      "[nltk_data]     C:\\Users\\soory\\AppData\\Roaming\\nltk_data...\n",
      "[nltk_data]   Package stopwords is already up-to-date!\n",
      "[nltk_data] Downloading package wordnet to\n",
      "[nltk_data]     C:\\Users\\soory\\AppData\\Roaming\\nltk_data...\n",
      "[nltk_data]   Package wordnet is already up-to-date!\n"
     ]
    },
    {
     "data": {
      "text/plain": [
       "True"
      ]
     },
     "execution_count": 62,
     "metadata": {},
     "output_type": "execute_result"
    }
   ],
   "source": [
    "import numpy as np\n",
    "import pandas as pd \n",
    "import matplotlib.pyplot as plt\n",
    "import seaborn as sns\n",
    "\n",
    "import warnings\n",
    "warnings.filterwarnings(\"ignore\")\n",
    "\n",
    "import re\n",
    "import nltk\n",
    "from nltk.stem import WordNetLemmatizer\n",
    "from nltk.corpus import stopwords\n",
    "nltk.download('punkt')\n",
    "nltk.download('stopwords')\n",
    "nltk.download('wordnet')"
   ]
  },
  {
   "cell_type": "code",
   "execution_count": 9,
   "metadata": {
    "id": "7Ee3A0O2NqCY"
   },
   "outputs": [],
   "source": [
    "twitter_df = pd.read_csv(r\"D:\\001_Data\\NLP\\Data\\twitter_training.csv\")"
   ]
  },
  {
   "cell_type": "code",
   "execution_count": 10,
   "metadata": {
    "colab": {
     "base_uri": "https://localhost:8080/",
     "height": 203
    },
    "id": "ur09goKRNoQa",
    "outputId": "bde3e028-2015-4b81-c87b-1ddf99ae59ba"
   },
   "outputs": [
    {
     "data": {
      "text/html": [
       "<div>\n",
       "<style scoped>\n",
       "    .dataframe tbody tr th:only-of-type {\n",
       "        vertical-align: middle;\n",
       "    }\n",
       "\n",
       "    .dataframe tbody tr th {\n",
       "        vertical-align: top;\n",
       "    }\n",
       "\n",
       "    .dataframe thead th {\n",
       "        text-align: right;\n",
       "    }\n",
       "</style>\n",
       "<table border=\"1\" class=\"dataframe\">\n",
       "  <thead>\n",
       "    <tr style=\"text-align: right;\">\n",
       "      <th></th>\n",
       "      <th>ID</th>\n",
       "      <th>Sentiment</th>\n",
       "      <th>Tweet</th>\n",
       "    </tr>\n",
       "  </thead>\n",
       "  <tbody>\n",
       "    <tr>\n",
       "      <th>0</th>\n",
       "      <td>2401</td>\n",
       "      <td>Positive</td>\n",
       "      <td>im getting on borderlands and i will murder yo...</td>\n",
       "    </tr>\n",
       "    <tr>\n",
       "      <th>1</th>\n",
       "      <td>2401</td>\n",
       "      <td>Positive</td>\n",
       "      <td>I am coming to the borders and I will kill you...</td>\n",
       "    </tr>\n",
       "    <tr>\n",
       "      <th>2</th>\n",
       "      <td>2401</td>\n",
       "      <td>Positive</td>\n",
       "      <td>im getting on borderlands and i will kill you ...</td>\n",
       "    </tr>\n",
       "    <tr>\n",
       "      <th>3</th>\n",
       "      <td>2401</td>\n",
       "      <td>Positive</td>\n",
       "      <td>im coming on borderlands and i will murder you...</td>\n",
       "    </tr>\n",
       "    <tr>\n",
       "      <th>4</th>\n",
       "      <td>2401</td>\n",
       "      <td>Positive</td>\n",
       "      <td>im getting on borderlands 2 and i will murder ...</td>\n",
       "    </tr>\n",
       "  </tbody>\n",
       "</table>\n",
       "</div>"
      ],
      "text/plain": [
       "     ID Sentiment                                              Tweet\n",
       "0  2401  Positive  im getting on borderlands and i will murder yo...\n",
       "1  2401  Positive  I am coming to the borders and I will kill you...\n",
       "2  2401  Positive  im getting on borderlands and i will kill you ...\n",
       "3  2401  Positive  im coming on borderlands and i will murder you...\n",
       "4  2401  Positive  im getting on borderlands 2 and i will murder ..."
      ]
     },
     "execution_count": 10,
     "metadata": {},
     "output_type": "execute_result"
    }
   ],
   "source": [
    "twitter_df.head()"
   ]
  },
  {
   "cell_type": "code",
   "execution_count": 11,
   "metadata": {
    "colab": {
     "base_uri": "https://localhost:8080/",
     "height": 203
    },
    "id": "BsGni7PYNj8a",
    "outputId": "815016f5-82e2-4f71-d3da-cd3f36b515d2"
   },
   "outputs": [
    {
     "data": {
      "text/html": [
       "<div>\n",
       "<style scoped>\n",
       "    .dataframe tbody tr th:only-of-type {\n",
       "        vertical-align: middle;\n",
       "    }\n",
       "\n",
       "    .dataframe tbody tr th {\n",
       "        vertical-align: top;\n",
       "    }\n",
       "\n",
       "    .dataframe thead th {\n",
       "        text-align: right;\n",
       "    }\n",
       "</style>\n",
       "<table border=\"1\" class=\"dataframe\">\n",
       "  <thead>\n",
       "    <tr style=\"text-align: right;\">\n",
       "      <th></th>\n",
       "      <th>ID</th>\n",
       "      <th>Sentiment</th>\n",
       "      <th>Tweet</th>\n",
       "    </tr>\n",
       "  </thead>\n",
       "  <tbody>\n",
       "    <tr>\n",
       "      <th>74677</th>\n",
       "      <td>9200</td>\n",
       "      <td>Positive</td>\n",
       "      <td>Just realized that the Windows partition of my...</td>\n",
       "    </tr>\n",
       "    <tr>\n",
       "      <th>74678</th>\n",
       "      <td>9200</td>\n",
       "      <td>Positive</td>\n",
       "      <td>Just realized that my Mac window partition is ...</td>\n",
       "    </tr>\n",
       "    <tr>\n",
       "      <th>74679</th>\n",
       "      <td>9200</td>\n",
       "      <td>Positive</td>\n",
       "      <td>Just realized the windows partition of my Mac ...</td>\n",
       "    </tr>\n",
       "    <tr>\n",
       "      <th>74680</th>\n",
       "      <td>9200</td>\n",
       "      <td>Positive</td>\n",
       "      <td>Just realized between the windows partition of...</td>\n",
       "    </tr>\n",
       "    <tr>\n",
       "      <th>74681</th>\n",
       "      <td>9200</td>\n",
       "      <td>Positive</td>\n",
       "      <td>Just like the windows partition of my Mac is l...</td>\n",
       "    </tr>\n",
       "  </tbody>\n",
       "</table>\n",
       "</div>"
      ],
      "text/plain": [
       "         ID Sentiment                                              Tweet\n",
       "74677  9200  Positive  Just realized that the Windows partition of my...\n",
       "74678  9200  Positive  Just realized that my Mac window partition is ...\n",
       "74679  9200  Positive  Just realized the windows partition of my Mac ...\n",
       "74680  9200  Positive  Just realized between the windows partition of...\n",
       "74681  9200  Positive  Just like the windows partition of my Mac is l..."
      ]
     },
     "execution_count": 11,
     "metadata": {},
     "output_type": "execute_result"
    }
   ],
   "source": [
    "twitter_df.tail()"
   ]
  },
  {
   "cell_type": "code",
   "execution_count": 13,
   "metadata": {
    "colab": {
     "base_uri": "https://localhost:8080/"
    },
    "id": "9icNtMjtMtm2",
    "outputId": "ac098332-7ac1-49bf-c1d5-b118295f31ec"
   },
   "outputs": [
    {
     "data": {
      "text/plain": [
       "count        74682\n",
       "unique           4\n",
       "top       Negative\n",
       "freq         22542\n",
       "Name: Sentiment, dtype: object"
      ]
     },
     "execution_count": 13,
     "metadata": {},
     "output_type": "execute_result"
    }
   ],
   "source": [
    "twitter_df['Sentiment'].describe().T"
   ]
  },
  {
   "cell_type": "code",
   "execution_count": 14,
   "metadata": {
    "colab": {
     "base_uri": "https://localhost:8080/"
    },
    "id": "zpNwTaIVOM_u",
    "outputId": "47adb520-dfb3-4d11-cdf6-72bc37943bcd"
   },
   "outputs": [
    {
     "name": "stdout",
     "output_type": "stream",
     "text": [
      "<class 'pandas.core.frame.DataFrame'>\n",
      "RangeIndex: 74682 entries, 0 to 74681\n",
      "Data columns (total 3 columns):\n",
      " #   Column     Non-Null Count  Dtype \n",
      "---  ------     --------------  ----- \n",
      " 0   ID         74682 non-null  int64 \n",
      " 1   Sentiment  74682 non-null  object\n",
      " 2   Tweet      73996 non-null  object\n",
      "dtypes: int64(1), object(2)\n",
      "memory usage: 1.7+ MB\n"
     ]
    }
   ],
   "source": [
    "twitter_df.info()"
   ]
  },
  {
   "cell_type": "code",
   "execution_count": 15,
   "metadata": {
    "colab": {
     "base_uri": "https://localhost:8080/"
    },
    "id": "LSUafOb7M-SP",
    "outputId": "45328598-d07e-4cbf-f215-f67e62fda307"
   },
   "outputs": [
    {
     "data": {
      "text/plain": [
       "ID             0\n",
       "Sentiment      0\n",
       "Tweet        686\n",
       "dtype: int64"
      ]
     },
     "execution_count": 15,
     "metadata": {},
     "output_type": "execute_result"
    }
   ],
   "source": [
    "twitter_df.isnull().sum()"
   ]
  },
  {
   "cell_type": "code",
   "execution_count": 16,
   "metadata": {
    "id": "rK2rpebhO0T0"
   },
   "outputs": [],
   "source": [
    "twitter_df.dropna(inplace=True)"
   ]
  },
  {
   "cell_type": "code",
   "execution_count": 17,
   "metadata": {
    "colab": {
     "base_uri": "https://localhost:8080/"
    },
    "id": "_x93J3T-P8tg",
    "outputId": "410fbac1-7ad9-4bcc-fc98-f53c6c58bcae"
   },
   "outputs": [
    {
     "data": {
      "text/plain": [
       "ID           0\n",
       "Sentiment    0\n",
       "Tweet        0\n",
       "dtype: int64"
      ]
     },
     "execution_count": 17,
     "metadata": {},
     "output_type": "execute_result"
    }
   ],
   "source": [
    "twitter_df.isnull().sum()"
   ]
  },
  {
   "cell_type": "code",
   "execution_count": 19,
   "metadata": {
    "colab": {
     "base_uri": "https://localhost:8080/"
    },
    "id": "GOeCgxydVTTd",
    "outputId": "93f08d7d-3d11-498f-ddaf-f7c460c4d829"
   },
   "outputs": [
    {
     "data": {
      "text/plain": [
       "Negative      22358\n",
       "Positive      20655\n",
       "Neutral       18108\n",
       "Irrelevant    12875\n",
       "Name: Sentiment, dtype: int64"
      ]
     },
     "execution_count": 19,
     "metadata": {},
     "output_type": "execute_result"
    }
   ],
   "source": [
    "twitter_df['Sentiment'].value_counts()"
   ]
  },
  {
   "cell_type": "markdown",
   "metadata": {
    "id": "4EliRo55QTp7"
   },
   "source": [
    "## Data Pre-Processing"
   ]
  },
  {
   "cell_type": "code",
   "execution_count": 20,
   "metadata": {
    "id": "v1dueuLgQTXJ"
   },
   "outputs": [],
   "source": [
    "twitter_df['Sentiment'] = twitter_df['Sentiment'].str.lower()\n",
    "\n",
    "\n",
    "def remove_special_characters(text, remove_digits=True):\n",
    "  pattern = r'[^a-zA-Z0-9\\s]' if not remove_digits else r'[^a-zA-Z\\s]'\n",
    "  text = re.sub(pattern, '', str(text))\n",
    "  return text\n",
    "\n",
    "twitter_df['Sentiment'] = twitter_df['Sentiment'].apply(remove_special_characters, remove_digits=False)\n",
    "\n",
    "def f(r):\n",
    "  wnl = WordNetLemmatizer()\n",
    "  words = nltk.word_tokenize(r)\n",
    "  lemmatized_words = [wnl.lemmatize(word) for word in words if word not in set(stopwords.words('english'))]\n",
    "  return \" \".join(lemmatized_words)\n",
    "\n",
    "twitter_df['Sentiment'] = twitter_df['Sentiment'].apply(f)"
   ]
  },
  {
   "cell_type": "code",
   "execution_count": 21,
   "metadata": {
    "id": "_8cAWiy_P_b0"
   },
   "outputs": [],
   "source": [
    "from sklearn.feature_extraction.text import CountVectorizer\n",
    "\n",
    "cv = CountVectorizer()\n",
    "data_X = cv.fit_transform(twitter_df['Sentiment']).toarray()\n",
    "data_X = pd.DataFrame(data_X, columns=cv.get_feature_names())"
   ]
  },
  {
   "cell_type": "code",
   "execution_count": 23,
   "metadata": {
    "id": "rkQTaLXUQoeG"
   },
   "outputs": [],
   "source": [
    "X = data_X\n",
    "y = twitter_df.Sentiment"
   ]
  },
  {
   "cell_type": "code",
   "execution_count": 24,
   "metadata": {
    "id": "ft2acdaKS5ua"
   },
   "outputs": [],
   "source": [
    "from sklearn.model_selection import train_test_split\n",
    "X_train, X_val, y_train, y_val = train_test_split(X, y, test_size=0.4)"
   ]
  },
  {
   "cell_type": "code",
   "execution_count": 25,
   "metadata": {
    "colab": {
     "base_uri": "https://localhost:8080/"
    },
    "id": "uM6J-6czTCF6",
    "outputId": "5b9f77a9-18bf-4950-fde0-4c799dc28f5d"
   },
   "outputs": [
    {
     "name": "stdout",
     "output_type": "stream",
     "text": [
      "(44397, 4) (29599, 4)\n"
     ]
    }
   ],
   "source": [
    "print(X_train.shape, X_val.shape)"
   ]
  },
  {
   "cell_type": "markdown",
   "metadata": {
    "id": "K28H7FsfUOp3"
   },
   "source": [
    "## Building the ML Models"
   ]
  },
  {
   "cell_type": "code",
   "execution_count": 59,
   "metadata": {
    "id": "gtU97oUwUkvd"
   },
   "outputs": [],
   "source": [
    "from sklearn.metrics import accuracy_score, classification_report, confusion_matrix, f1_score"
   ]
  },
  {
   "cell_type": "markdown",
   "metadata": {
    "id": "bgYb6ZlsUOe7"
   },
   "source": [
    "### 1. Decision Tree  "
   ]
  },
  {
   "cell_type": "code",
   "execution_count": 27,
   "metadata": {
    "id": "UdMV9Oh4TRIs"
   },
   "outputs": [],
   "source": [
    "from sklearn.tree import DecisionTreeClassifier"
   ]
  },
  {
   "cell_type": "code",
   "execution_count": 28,
   "metadata": {
    "id": "LlOKxw53Ua0r"
   },
   "outputs": [],
   "source": [
    "model1 = DecisionTreeClassifier()"
   ]
  },
  {
   "cell_type": "code",
   "execution_count": 29,
   "metadata": {
    "colab": {
     "base_uri": "https://localhost:8080/"
    },
    "id": "Hcw-iGR7Uey_",
    "outputId": "61072720-c1fb-4afa-ee14-f88975452e56"
   },
   "outputs": [
    {
     "data": {
      "text/plain": [
       "DecisionTreeClassifier()"
      ]
     },
     "execution_count": 29,
     "metadata": {},
     "output_type": "execute_result"
    }
   ],
   "source": [
    "model1.fit(X_train, y_train)"
   ]
  },
  {
   "cell_type": "code",
   "execution_count": 30,
   "metadata": {
    "id": "bSNPCaGGUi7R"
   },
   "outputs": [],
   "source": [
    "y_preds_model1 = model1.predict(X_val)"
   ]
  },
  {
   "cell_type": "code",
   "execution_count": 31,
   "metadata": {
    "colab": {
     "base_uri": "https://localhost:8080/"
    },
    "id": "z1n9tRgkVpO4",
    "outputId": "b29a9957-45a5-4f31-ace8-540b4a710165"
   },
   "outputs": [
    {
     "name": "stdout",
     "output_type": "stream",
     "text": [
      "Decision Tree model's accuracy:  1.0\n"
     ]
    }
   ],
   "source": [
    "print(\"Decision Tree model's accuracy: \", accuracy_score(y_val, y_preds_model1))"
   ]
  },
  {
   "cell_type": "code",
   "execution_count": 32,
   "metadata": {
    "colab": {
     "base_uri": "https://localhost:8080/"
    },
    "id": "TDWWhY_leE3O",
    "outputId": "4c78b927-6e30-4d01-e6bf-ef4980297871"
   },
   "outputs": [
    {
     "name": "stdout",
     "output_type": "stream",
     "text": [
      "Decision Tree model's F1 Score:  1.0\n"
     ]
    }
   ],
   "source": [
    "print(\"Decision Tree model's F1 Score: \", f1_score(y_val, y_preds_model1, average='weighted')) "
   ]
  },
  {
   "cell_type": "code",
   "execution_count": 33,
   "metadata": {
    "colab": {
     "base_uri": "https://localhost:8080/"
    },
    "id": "Am1MYOSWVvci",
    "outputId": "afa66f0f-4210-4231-a90f-e916fa130ff4"
   },
   "outputs": [
    {
     "name": "stdout",
     "output_type": "stream",
     "text": [
      "Decision Tree model's Classification Report: \n",
      "               precision    recall  f1-score   support\n",
      "\n",
      "  irrelevant       1.00      1.00      1.00      5195\n",
      "    negative       1.00      1.00      1.00      8967\n",
      "     neutral       1.00      1.00      1.00      7179\n",
      "    positive       1.00      1.00      1.00      8258\n",
      "\n",
      "    accuracy                           1.00     29599\n",
      "   macro avg       1.00      1.00      1.00     29599\n",
      "weighted avg       1.00      1.00      1.00     29599\n",
      "\n"
     ]
    }
   ],
   "source": [
    "print(\"Decision Tree model's Classification Report: \\n\", classification_report(y_val, y_preds_model1))"
   ]
  },
  {
   "cell_type": "markdown",
   "metadata": {
    "id": "2Arcu0hfWNIk"
   },
   "source": [
    "### 2. Random Forest  "
   ]
  },
  {
   "cell_type": "code",
   "execution_count": 34,
   "metadata": {
    "id": "HjovhxVEWNIl"
   },
   "outputs": [],
   "source": [
    "from sklearn.ensemble import RandomForestClassifier"
   ]
  },
  {
   "cell_type": "code",
   "execution_count": 35,
   "metadata": {
    "id": "F0jVUpgZWNIl"
   },
   "outputs": [],
   "source": [
    "model2 = RandomForestClassifier(n_estimators=3000)"
   ]
  },
  {
   "cell_type": "code",
   "execution_count": 36,
   "metadata": {
    "colab": {
     "base_uri": "https://localhost:8080/"
    },
    "id": "OcHV-8fkWNIm",
    "outputId": "8b99e42b-7382-497d-aab5-911671856107"
   },
   "outputs": [
    {
     "data": {
      "text/plain": [
       "RandomForestClassifier(n_estimators=3000)"
      ]
     },
     "execution_count": 36,
     "metadata": {},
     "output_type": "execute_result"
    }
   ],
   "source": [
    "model2.fit(X_train, y_train)"
   ]
  },
  {
   "cell_type": "code",
   "execution_count": 37,
   "metadata": {
    "id": "aslUvj7kWNIm"
   },
   "outputs": [],
   "source": [
    "y_preds_model2 = model2.predict(X_val)"
   ]
  },
  {
   "cell_type": "code",
   "execution_count": 38,
   "metadata": {
    "colab": {
     "base_uri": "https://localhost:8080/"
    },
    "id": "ly0y10R3WNIm",
    "outputId": "a112d0e8-228d-4418-b621-9f4e01c40477"
   },
   "outputs": [
    {
     "name": "stdout",
     "output_type": "stream",
     "text": [
      "Random Forest model's accuracy:  1.0\n"
     ]
    }
   ],
   "source": [
    "print(\"Random Forest model's accuracy: \", accuracy_score(y_val, y_preds_model2))"
   ]
  },
  {
   "cell_type": "code",
   "execution_count": 39,
   "metadata": {
    "colab": {
     "base_uri": "https://localhost:8080/"
    },
    "id": "8CdU88nLeQWj",
    "outputId": "3e09b5f2-60dc-4cc7-a664-8813e0bbd7ac"
   },
   "outputs": [
    {
     "name": "stdout",
     "output_type": "stream",
     "text": [
      "Random Forest model's F1 Score:  1.0\n"
     ]
    }
   ],
   "source": [
    "print(\"Random Forest model's F1 Score: \", f1_score(y_val, y_preds_model2, average='weighted')) "
   ]
  },
  {
   "cell_type": "code",
   "execution_count": 40,
   "metadata": {
    "colab": {
     "base_uri": "https://localhost:8080/"
    },
    "id": "fj99j0XHWNIn",
    "outputId": "492d5f05-b145-4815-b986-ba12188015a2"
   },
   "outputs": [
    {
     "name": "stdout",
     "output_type": "stream",
     "text": [
      "Random Forest model's Classification Report: \n",
      "               precision    recall  f1-score   support\n",
      "\n",
      "  irrelevant       1.00      1.00      1.00      5195\n",
      "    negative       1.00      1.00      1.00      8967\n",
      "     neutral       1.00      1.00      1.00      7179\n",
      "    positive       1.00      1.00      1.00      8258\n",
      "\n",
      "    accuracy                           1.00     29599\n",
      "   macro avg       1.00      1.00      1.00     29599\n",
      "weighted avg       1.00      1.00      1.00     29599\n",
      "\n"
     ]
    }
   ],
   "source": [
    "print(\"Random Forest model's Classification Report: \\n\", classification_report(y_val, y_preds_model2))"
   ]
  },
  {
   "cell_type": "markdown",
   "metadata": {
    "id": "WNRf8BMUXW8N"
   },
   "source": [
    "### 3. Extra Tree  "
   ]
  },
  {
   "cell_type": "code",
   "execution_count": 41,
   "metadata": {
    "id": "x2l3Xga0XW8O"
   },
   "outputs": [],
   "source": [
    "from sklearn.ensemble import ExtraTreesClassifier"
   ]
  },
  {
   "cell_type": "code",
   "execution_count": 42,
   "metadata": {
    "id": "Sn4m59cJXW8O"
   },
   "outputs": [],
   "source": [
    "model3 = ExtraTreesClassifier(n_estimators=3000)"
   ]
  },
  {
   "cell_type": "code",
   "execution_count": 43,
   "metadata": {
    "colab": {
     "base_uri": "https://localhost:8080/"
    },
    "id": "2kKytEd3XW8O",
    "outputId": "2822c6b2-30c8-4205-9659-40753010d603"
   },
   "outputs": [
    {
     "data": {
      "text/plain": [
       "ExtraTreesClassifier(n_estimators=3000)"
      ]
     },
     "execution_count": 43,
     "metadata": {},
     "output_type": "execute_result"
    }
   ],
   "source": [
    "model3.fit(X_train, y_train)"
   ]
  },
  {
   "cell_type": "code",
   "execution_count": 44,
   "metadata": {
    "id": "PZBjvp7gXW8P"
   },
   "outputs": [],
   "source": [
    "y_preds_model3 = model3.predict(X_val)"
   ]
  },
  {
   "cell_type": "code",
   "execution_count": 45,
   "metadata": {
    "colab": {
     "base_uri": "https://localhost:8080/"
    },
    "id": "jwm6CNM7XW8P",
    "outputId": "a0b1ee2a-b88b-4cae-db8d-eb37efd95260"
   },
   "outputs": [
    {
     "name": "stdout",
     "output_type": "stream",
     "text": [
      "Extra Tree model's accuracy:  1.0\n"
     ]
    }
   ],
   "source": [
    "print(\"Extra Tree model's accuracy: \", accuracy_score(y_val, y_preds_model3))"
   ]
  },
  {
   "cell_type": "code",
   "execution_count": 46,
   "metadata": {
    "colab": {
     "base_uri": "https://localhost:8080/"
    },
    "id": "LdpJLEPseUQO",
    "outputId": "684334ce-db80-4c57-a830-fd58c1e382aa"
   },
   "outputs": [
    {
     "name": "stdout",
     "output_type": "stream",
     "text": [
      "Extra Tree model's F1 Score:  1.0\n"
     ]
    }
   ],
   "source": [
    "print(\"Extra Tree model's F1 Score: \", f1_score(y_val, y_preds_model3, average='weighted')) "
   ]
  },
  {
   "cell_type": "code",
   "execution_count": 47,
   "metadata": {
    "colab": {
     "base_uri": "https://localhost:8080/"
    },
    "id": "wqsIXxsMXW8P",
    "outputId": "e42818ee-9911-46c0-d280-9050b74839a6"
   },
   "outputs": [
    {
     "name": "stdout",
     "output_type": "stream",
     "text": [
      "Extra Tree model's Classification Report: \n",
      "               precision    recall  f1-score   support\n",
      "\n",
      "  irrelevant       1.00      1.00      1.00      5195\n",
      "    negative       1.00      1.00      1.00      8967\n",
      "     neutral       1.00      1.00      1.00      7179\n",
      "    positive       1.00      1.00      1.00      8258\n",
      "\n",
      "    accuracy                           1.00     29599\n",
      "   macro avg       1.00      1.00      1.00     29599\n",
      "weighted avg       1.00      1.00      1.00     29599\n",
      "\n"
     ]
    }
   ],
   "source": [
    "print(\"Extra Tree model's Classification Report: \\n\", classification_report(y_val, y_preds_model3))"
   ]
  },
  {
   "cell_type": "markdown",
   "metadata": {
    "id": "SZT5DWI1aqEG"
   },
   "source": [
    "### 4. XGB Classifier  "
   ]
  },
  {
   "cell_type": "code",
   "execution_count": 52,
   "metadata": {
    "id": "VSXpLnXWaqEO"
   },
   "outputs": [],
   "source": [
    "from xgboost import XGBClassifier"
   ]
  },
  {
   "cell_type": "code",
   "execution_count": 53,
   "metadata": {
    "id": "MuUDXKHwaqEO"
   },
   "outputs": [],
   "source": [
    "model4 = XGBClassifier(n_estimators=500)"
   ]
  },
  {
   "cell_type": "code",
   "execution_count": 54,
   "metadata": {
    "colab": {
     "base_uri": "https://localhost:8080/"
    },
    "id": "HuEB2VTIaqEO",
    "outputId": "9ea16357-ad25-4c91-e5d4-5abd91e28b08"
   },
   "outputs": [
    {
     "name": "stdout",
     "output_type": "stream",
     "text": [
      "[13:01:17] WARNING: ..\\src\\learner.cc:1061: Starting in XGBoost 1.3.0, the default evaluation metric used with the objective 'multi:softprob' was changed from 'merror' to 'mlogloss'. Explicitly set eval_metric if you'd like to restore the old behavior.\n"
     ]
    },
    {
     "data": {
      "text/plain": [
       "XGBClassifier(base_score=0.5, booster='gbtree', colsample_bylevel=1,\n",
       "              colsample_bynode=1, colsample_bytree=1, gamma=0, gpu_id=-1,\n",
       "              importance_type='gain', interaction_constraints='',\n",
       "              learning_rate=0.300000012, max_delta_step=0, max_depth=6,\n",
       "              min_child_weight=1, missing=nan, monotone_constraints='()',\n",
       "              n_estimators=500, n_jobs=8, num_parallel_tree=1,\n",
       "              objective='multi:softprob', random_state=0, reg_alpha=0,\n",
       "              reg_lambda=1, scale_pos_weight=None, subsample=1,\n",
       "              tree_method='exact', validate_parameters=1, verbosity=None)"
      ]
     },
     "execution_count": 54,
     "metadata": {},
     "output_type": "execute_result"
    }
   ],
   "source": [
    "model4.fit(X_train, y_train)"
   ]
  },
  {
   "cell_type": "code",
   "execution_count": 55,
   "metadata": {
    "id": "ylSKlvxVaqEP"
   },
   "outputs": [],
   "source": [
    "y_preds_model4 = model4.predict(X_val)"
   ]
  },
  {
   "cell_type": "code",
   "execution_count": 56,
   "metadata": {
    "colab": {
     "base_uri": "https://localhost:8080/"
    },
    "id": "OEEeiSk2aqEP",
    "outputId": "b0e7a0fe-4afe-48c2-e2dc-2b1c7b5ef80b"
   },
   "outputs": [
    {
     "name": "stdout",
     "output_type": "stream",
     "text": [
      "XGBoost model's accuracy:  1.0\n"
     ]
    }
   ],
   "source": [
    "print(\"XGBoost model's accuracy: \", accuracy_score(y_val, y_preds_model4))"
   ]
  },
  {
   "cell_type": "code",
   "execution_count": 57,
   "metadata": {
    "colab": {
     "base_uri": "https://localhost:8080/"
    },
    "id": "JfoBy0r5eYvA",
    "outputId": "d40ae4da-b564-417e-f1f1-551336174518"
   },
   "outputs": [
    {
     "name": "stdout",
     "output_type": "stream",
     "text": [
      "XGBoost model's F1 Score:  1.0\n"
     ]
    }
   ],
   "source": [
    "print(\"XGBoost model's F1 Score: \", f1_score(y_val, y_preds_model4, average='weighted')) "
   ]
  },
  {
   "cell_type": "code",
   "execution_count": 58,
   "metadata": {
    "colab": {
     "base_uri": "https://localhost:8080/"
    },
    "id": "3STEplp_aqEP",
    "outputId": "8fae000f-b906-4870-9721-313b5c225ad9"
   },
   "outputs": [
    {
     "name": "stdout",
     "output_type": "stream",
     "text": [
      "XGBoost model's Classification Report: \n",
      "               precision    recall  f1-score   support\n",
      "\n",
      "  irrelevant       1.00      1.00      1.00      5195\n",
      "    negative       1.00      1.00      1.00      8967\n",
      "     neutral       1.00      1.00      1.00      7179\n",
      "    positive       1.00      1.00      1.00      8258\n",
      "\n",
      "    accuracy                           1.00     29599\n",
      "   macro avg       1.00      1.00      1.00     29599\n",
      "weighted avg       1.00      1.00      1.00     29599\n",
      "\n"
     ]
    }
   ],
   "source": [
    "print(\"XGBoost model's Classification Report: \\n\", classification_report(y_val, y_preds_model4))"
   ]
  }
 ],
 "metadata": {
  "colab": {
   "collapsed_sections": [],
   "name": "Spp_NLP_1_Tweets_Abuse_Classification",
   "provenance": []
  },
  "kernelspec": {
   "display_name": "Python 3",
   "language": "python",
   "name": "python3"
  },
  "language_info": {
   "codemirror_mode": {
    "name": "ipython",
    "version": 3
   },
   "file_extension": ".py",
   "mimetype": "text/x-python",
   "name": "python",
   "nbconvert_exporter": "python",
   "pygments_lexer": "ipython3",
   "version": "3.9.6"
  }
 },
 "nbformat": 4,
 "nbformat_minor": 1
}
