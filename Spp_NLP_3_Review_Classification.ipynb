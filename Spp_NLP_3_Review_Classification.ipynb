{
 "cells": [
  {
   "cell_type": "markdown",
   "metadata": {
    "id": "H5VH_F2TgY3C"
   },
   "source": [
    "# Classification of Postive & Negative reviews using NLP techniques"
   ]
  },
  {
   "cell_type": "markdown",
   "metadata": {
    "id": "WwQc_Q9NgcxW"
   },
   "source": [
    "### By: Soorya Parthiban"
   ]
  },
  {
   "cell_type": "markdown",
   "metadata": {
    "id": "X2RjEHvrgi3_"
   },
   "source": [
    "## Problem Statement: We are provided the review datasets taken from different websites like IMDB, Yelp and Amazon to a machine learning model to predict the label of the review either positive or negative."
   ]
  },
  {
   "cell_type": "markdown",
   "metadata": {
    "id": "pAybeDD8OTEb"
   },
   "source": [
    "## Importing Library & Dataset"
   ]
  },
  {
   "cell_type": "code",
   "execution_count": 2,
   "metadata": {
    "colab": {
     "base_uri": "https://localhost:8080/"
    },
    "id": "aLPIp_hwMpuH",
    "outputId": "72012003-b243-4f6c-c317-ff9694e5693b"
   },
   "outputs": [
    {
     "name": "stderr",
     "output_type": "stream",
     "text": [
      "[nltk_data] Downloading package punkt to\n",
      "[nltk_data]     C:\\Users\\soory\\AppData\\Roaming\\nltk_data...\n",
      "[nltk_data]   Package punkt is already up-to-date!\n",
      "[nltk_data] Downloading package stopwords to\n",
      "[nltk_data]     C:\\Users\\soory\\AppData\\Roaming\\nltk_data...\n",
      "[nltk_data]   Package stopwords is already up-to-date!\n",
      "[nltk_data] Downloading package wordnet to\n",
      "[nltk_data]     C:\\Users\\soory\\AppData\\Roaming\\nltk_data...\n",
      "[nltk_data]   Package wordnet is already up-to-date!\n"
     ]
    },
    {
     "data": {
      "text/plain": [
       "True"
      ]
     },
     "execution_count": 2,
     "metadata": {},
     "output_type": "execute_result"
    }
   ],
   "source": [
    "import numpy as np\n",
    "import pandas as pd \n",
    "\n",
    "import warnings\n",
    "warnings.filterwarnings(\"ignore\")\n",
    "\n",
    "import re\n",
    "import nltk\n",
    "from nltk.stem import WordNetLemmatizer\n",
    "from nltk.corpus import stopwords\n",
    "nltk.download('punkt')\n",
    "nltk.download('stopwords')\n",
    "nltk.download('wordnet')"
   ]
  },
  {
   "cell_type": "code",
   "execution_count": 3,
   "metadata": {
    "id": "7Ee3A0O2NqCY"
   },
   "outputs": [],
   "source": [
    "review_df = pd.read_csv(r\"C:\\Users\\soory\\Downloads\\review_train_set.csv\")"
   ]
  },
  {
   "cell_type": "code",
   "execution_count": 4,
   "metadata": {
    "colab": {
     "base_uri": "https://localhost:8080/",
     "height": 203
    },
    "id": "ur09goKRNoQa",
    "outputId": "bde3e028-2015-4b81-c87b-1ddf99ae59ba"
   },
   "outputs": [
    {
     "data": {
      "text/html": [
       "<div>\n",
       "<style scoped>\n",
       "    .dataframe tbody tr th:only-of-type {\n",
       "        vertical-align: middle;\n",
       "    }\n",
       "\n",
       "    .dataframe tbody tr th {\n",
       "        vertical-align: top;\n",
       "    }\n",
       "\n",
       "    .dataframe thead th {\n",
       "        text-align: right;\n",
       "    }\n",
       "</style>\n",
       "<table border=\"1\" class=\"dataframe\">\n",
       "  <thead>\n",
       "    <tr style=\"text-align: right;\">\n",
       "      <th></th>\n",
       "      <th>review</th>\n",
       "      <th>sentiment</th>\n",
       "    </tr>\n",
       "  </thead>\n",
       "  <tbody>\n",
       "    <tr>\n",
       "      <th>0</th>\n",
       "      <td>think robert ryans best film portrayed someone...</td>\n",
       "      <td>1</td>\n",
       "    </tr>\n",
       "    <tr>\n",
       "      <th>1</th>\n",
       "      <td>juano hernandez exceptional actor played suppo...</td>\n",
       "      <td>1</td>\n",
       "    </tr>\n",
       "    <tr>\n",
       "      <th>2</th>\n",
       "      <td>shocked sign indicate cash</td>\n",
       "      <td>0</td>\n",
       "    </tr>\n",
       "    <tr>\n",
       "      <th>3</th>\n",
       "      <td>sat another ten minute finally gave left</td>\n",
       "      <td>0</td>\n",
       "    </tr>\n",
       "    <tr>\n",
       "      <th>4</th>\n",
       "      <td>igo charger tip really great</td>\n",
       "      <td>1</td>\n",
       "    </tr>\n",
       "  </tbody>\n",
       "</table>\n",
       "</div>"
      ],
      "text/plain": [
       "                                              review  sentiment\n",
       "0  think robert ryans best film portrayed someone...          1\n",
       "1  juano hernandez exceptional actor played suppo...          1\n",
       "2                         shocked sign indicate cash          0\n",
       "3           sat another ten minute finally gave left          0\n",
       "4                       igo charger tip really great          1"
      ]
     },
     "execution_count": 4,
     "metadata": {},
     "output_type": "execute_result"
    }
   ],
   "source": [
    "review_df.head()"
   ]
  },
  {
   "cell_type": "code",
   "execution_count": 5,
   "metadata": {
    "colab": {
     "base_uri": "https://localhost:8080/",
     "height": 203
    },
    "id": "BsGni7PYNj8a",
    "outputId": "815016f5-82e2-4f71-d3da-cd3f36b515d2"
   },
   "outputs": [
    {
     "data": {
      "text/html": [
       "<div>\n",
       "<style scoped>\n",
       "    .dataframe tbody tr th:only-of-type {\n",
       "        vertical-align: middle;\n",
       "    }\n",
       "\n",
       "    .dataframe tbody tr th {\n",
       "        vertical-align: top;\n",
       "    }\n",
       "\n",
       "    .dataframe thead th {\n",
       "        text-align: right;\n",
       "    }\n",
       "</style>\n",
       "<table border=\"1\" class=\"dataframe\">\n",
       "  <thead>\n",
       "    <tr style=\"text-align: right;\">\n",
       "      <th></th>\n",
       "      <th>review</th>\n",
       "      <th>sentiment</th>\n",
       "    </tr>\n",
       "  </thead>\n",
       "  <tbody>\n",
       "    <tr>\n",
       "      <th>2055</th>\n",
       "      <td>food good</td>\n",
       "      <td>1</td>\n",
       "    </tr>\n",
       "    <tr>\n",
       "      <th>2056</th>\n",
       "      <td>nicest chinese restaurant ive</td>\n",
       "      <td>1</td>\n",
       "    </tr>\n",
       "    <tr>\n",
       "      <th>2057</th>\n",
       "      <td>could believe dirty oyster</td>\n",
       "      <td>0</td>\n",
       "    </tr>\n",
       "    <tr>\n",
       "      <th>2058</th>\n",
       "      <td>delicious absolutely back</td>\n",
       "      <td>1</td>\n",
       "    </tr>\n",
       "    <tr>\n",
       "      <th>2059</th>\n",
       "      <td>earbud piece break easily</td>\n",
       "      <td>0</td>\n",
       "    </tr>\n",
       "  </tbody>\n",
       "</table>\n",
       "</div>"
      ],
      "text/plain": [
       "                             review  sentiment\n",
       "2055                      food good          1\n",
       "2056  nicest chinese restaurant ive          1\n",
       "2057     could believe dirty oyster          0\n",
       "2058      delicious absolutely back          1\n",
       "2059      earbud piece break easily          0"
      ]
     },
     "execution_count": 5,
     "metadata": {},
     "output_type": "execute_result"
    }
   ],
   "source": [
    "review_df.tail()"
   ]
  },
  {
   "cell_type": "code",
   "execution_count": 6,
   "metadata": {
    "colab": {
     "base_uri": "https://localhost:8080/"
    },
    "id": "zpNwTaIVOM_u",
    "outputId": "47adb520-dfb3-4d11-cdf6-72bc37943bcd"
   },
   "outputs": [
    {
     "name": "stdout",
     "output_type": "stream",
     "text": [
      "<class 'pandas.core.frame.DataFrame'>\n",
      "RangeIndex: 2060 entries, 0 to 2059\n",
      "Data columns (total 2 columns):\n",
      " #   Column     Non-Null Count  Dtype \n",
      "---  ------     --------------  ----- \n",
      " 0   review     2060 non-null   object\n",
      " 1   sentiment  2060 non-null   int64 \n",
      "dtypes: int64(1), object(1)\n",
      "memory usage: 32.3+ KB\n"
     ]
    }
   ],
   "source": [
    "review_df.info()"
   ]
  },
  {
   "cell_type": "code",
   "execution_count": 7,
   "metadata": {
    "colab": {
     "base_uri": "https://localhost:8080/"
    },
    "id": "LSUafOb7M-SP",
    "outputId": "45328598-d07e-4cbf-f215-f67e62fda307"
   },
   "outputs": [
    {
     "data": {
      "text/plain": [
       "review       0\n",
       "sentiment    0\n",
       "dtype: int64"
      ]
     },
     "execution_count": 7,
     "metadata": {},
     "output_type": "execute_result"
    }
   ],
   "source": [
    "review_df.isnull().sum()"
   ]
  },
  {
   "cell_type": "code",
   "execution_count": 8,
   "metadata": {},
   "outputs": [
    {
     "name": "stdout",
     "output_type": "stream",
     "text": [
      "Length of the dataset:  2060\n"
     ]
    }
   ],
   "source": [
    "print(\"Length of the dataset: \", len(review_df))"
   ]
  },
  {
   "cell_type": "markdown",
   "metadata": {
    "id": "4EliRo55QTp7"
   },
   "source": [
    "## Data Pre-Processing"
   ]
  },
  {
   "cell_type": "markdown",
   "metadata": {},
   "source": [
    "### Mergining True & Fake News"
   ]
  },
  {
   "cell_type": "code",
   "execution_count": 9,
   "metadata": {
    "id": "v1dueuLgQTXJ"
   },
   "outputs": [],
   "source": [
    "review_df['review'] = review_df['review'].str.lower()\n",
    "\n",
    "\n",
    "def remove_special_characters(text, remove_digits=True):\n",
    "  pattern = r'[^a-zA-Z0-9\\s]' if not remove_digits else r'[^a-zA-Z\\s]'\n",
    "  text = re.sub(pattern, '', str(text))\n",
    "  return text\n",
    "\n",
    "review_df['review'] = review_df['review'].apply(remove_special_characters, remove_digits=False)\n",
    "\n",
    "def f(r):\n",
    "  wnl = WordNetLemmatizer()\n",
    "  words = nltk.word_tokenize(r)\n",
    "  lemmatized_words = [wnl.lemmatize(word) for word in words if word not in set(stopwords.words('english'))]\n",
    "  return \" \".join(lemmatized_words)\n",
    "\n",
    "review_df['review'] = review_df['review'].apply(f)"
   ]
  },
  {
   "cell_type": "code",
   "execution_count": 10,
   "metadata": {
    "id": "_8cAWiy_P_b0"
   },
   "outputs": [],
   "source": [
    "from sklearn.feature_extraction.text import CountVectorizer\n",
    "\n",
    "cv = CountVectorizer()\n",
    "data_X = cv.fit_transform(review_df['review']).toarray()\n",
    "data_X = pd.DataFrame(data_X, columns=cv.get_feature_names())"
   ]
  },
  {
   "cell_type": "code",
   "execution_count": 12,
   "metadata": {
    "id": "rkQTaLXUQoeG"
   },
   "outputs": [],
   "source": [
    "X = data_X\n",
    "y = review_df.sentiment"
   ]
  },
  {
   "cell_type": "code",
   "execution_count": 13,
   "metadata": {
    "id": "ft2acdaKS5ua"
   },
   "outputs": [],
   "source": [
    "from sklearn.model_selection import train_test_split\n",
    "X_train, X_val, y_train, y_val = train_test_split(X, y, test_size=0.3)"
   ]
  },
  {
   "cell_type": "code",
   "execution_count": 14,
   "metadata": {
    "colab": {
     "base_uri": "https://localhost:8080/"
    },
    "id": "uM6J-6czTCF6",
    "outputId": "5b9f77a9-18bf-4950-fde0-4c799dc28f5d"
   },
   "outputs": [
    {
     "name": "stdout",
     "output_type": "stream",
     "text": [
      "(1442, 3977) (618, 3977)\n"
     ]
    }
   ],
   "source": [
    "print(X_train.shape, X_val.shape)"
   ]
  },
  {
   "cell_type": "markdown",
   "metadata": {
    "id": "K28H7FsfUOp3"
   },
   "source": [
    "## Building the ML Models"
   ]
  },
  {
   "cell_type": "code",
   "execution_count": 15,
   "metadata": {
    "id": "gtU97oUwUkvd"
   },
   "outputs": [],
   "source": [
    "from sklearn.metrics import accuracy_score, classification_report, confusion_matrix, f1_score"
   ]
  },
  {
   "cell_type": "markdown",
   "metadata": {
    "id": "bgYb6ZlsUOe7"
   },
   "source": [
    "### 1. Decision Tree  "
   ]
  },
  {
   "cell_type": "code",
   "execution_count": 16,
   "metadata": {
    "id": "UdMV9Oh4TRIs"
   },
   "outputs": [],
   "source": [
    "from sklearn.tree import DecisionTreeClassifier"
   ]
  },
  {
   "cell_type": "code",
   "execution_count": 17,
   "metadata": {
    "id": "LlOKxw53Ua0r"
   },
   "outputs": [],
   "source": [
    "model1 = DecisionTreeClassifier()"
   ]
  },
  {
   "cell_type": "code",
   "execution_count": 18,
   "metadata": {
    "colab": {
     "base_uri": "https://localhost:8080/"
    },
    "id": "Hcw-iGR7Uey_",
    "outputId": "61072720-c1fb-4afa-ee14-f88975452e56"
   },
   "outputs": [
    {
     "data": {
      "text/plain": [
       "DecisionTreeClassifier()"
      ]
     },
     "execution_count": 18,
     "metadata": {},
     "output_type": "execute_result"
    }
   ],
   "source": [
    "model1.fit(X_train, y_train)"
   ]
  },
  {
   "cell_type": "code",
   "execution_count": 19,
   "metadata": {
    "id": "bSNPCaGGUi7R"
   },
   "outputs": [],
   "source": [
    "y_preds_model1 = model1.predict(X_val)"
   ]
  },
  {
   "cell_type": "code",
   "execution_count": 20,
   "metadata": {
    "colab": {
     "base_uri": "https://localhost:8080/"
    },
    "id": "z1n9tRgkVpO4",
    "outputId": "b29a9957-45a5-4f31-ace8-540b4a710165"
   },
   "outputs": [
    {
     "name": "stdout",
     "output_type": "stream",
     "text": [
      "Decision Tree model's accuracy:  0.7055016181229773\n"
     ]
    }
   ],
   "source": [
    "print(\"Decision Tree model's accuracy: \", accuracy_score(y_val, y_preds_model1))"
   ]
  },
  {
   "cell_type": "code",
   "execution_count": 23,
   "metadata": {
    "colab": {
     "base_uri": "https://localhost:8080/"
    },
    "id": "TDWWhY_leE3O",
    "outputId": "4c78b927-6e30-4d01-e6bf-ef4980297871"
   },
   "outputs": [
    {
     "name": "stdout",
     "output_type": "stream",
     "text": [
      "Decision Tree model's F1 Score:  0.6936026936026936\n"
     ]
    }
   ],
   "source": [
    "print(\"Decision Tree model's F1 Score: \", f1_score(y_val, y_preds_model1)) "
   ]
  },
  {
   "cell_type": "code",
   "execution_count": 22,
   "metadata": {
    "colab": {
     "base_uri": "https://localhost:8080/"
    },
    "id": "Am1MYOSWVvci",
    "outputId": "afa66f0f-4210-4231-a90f-e916fa130ff4"
   },
   "outputs": [
    {
     "name": "stdout",
     "output_type": "stream",
     "text": [
      "Decision Tree model's Classification Report: \n",
      "               precision    recall  f1-score   support\n",
      "\n",
      "           0       0.69      0.75      0.72       308\n",
      "           1       0.73      0.66      0.69       310\n",
      "\n",
      "    accuracy                           0.71       618\n",
      "   macro avg       0.71      0.71      0.71       618\n",
      "weighted avg       0.71      0.71      0.71       618\n",
      "\n"
     ]
    }
   ],
   "source": [
    "print(\"Decision Tree model's Classification Report: \\n\", classification_report(y_val, y_preds_model1))"
   ]
  },
  {
   "cell_type": "markdown",
   "metadata": {
    "id": "2Arcu0hfWNIk"
   },
   "source": [
    "### 2. Random Forest  "
   ]
  },
  {
   "cell_type": "code",
   "execution_count": 24,
   "metadata": {
    "id": "HjovhxVEWNIl"
   },
   "outputs": [],
   "source": [
    "from sklearn.ensemble import RandomForestClassifier"
   ]
  },
  {
   "cell_type": "code",
   "execution_count": 25,
   "metadata": {
    "id": "F0jVUpgZWNIl"
   },
   "outputs": [],
   "source": [
    "model2 = RandomForestClassifier(n_estimators=3000)"
   ]
  },
  {
   "cell_type": "code",
   "execution_count": 26,
   "metadata": {
    "colab": {
     "base_uri": "https://localhost:8080/"
    },
    "id": "OcHV-8fkWNIm",
    "outputId": "8b99e42b-7382-497d-aab5-911671856107"
   },
   "outputs": [
    {
     "data": {
      "text/plain": [
       "RandomForestClassifier(n_estimators=3000)"
      ]
     },
     "execution_count": 26,
     "metadata": {},
     "output_type": "execute_result"
    }
   ],
   "source": [
    "model2.fit(X_train, y_train)"
   ]
  },
  {
   "cell_type": "code",
   "execution_count": 27,
   "metadata": {
    "id": "aslUvj7kWNIm"
   },
   "outputs": [],
   "source": [
    "y_preds_model2 = model2.predict(X_val)"
   ]
  },
  {
   "cell_type": "code",
   "execution_count": 28,
   "metadata": {
    "colab": {
     "base_uri": "https://localhost:8080/"
    },
    "id": "ly0y10R3WNIm",
    "outputId": "a112d0e8-228d-4418-b621-9f4e01c40477"
   },
   "outputs": [
    {
     "name": "stdout",
     "output_type": "stream",
     "text": [
      "Random Forest model's accuracy:  0.7475728155339806\n"
     ]
    }
   ],
   "source": [
    "print(\"Random Forest model's accuracy: \", accuracy_score(y_val, y_preds_model2))"
   ]
  },
  {
   "cell_type": "code",
   "execution_count": 29,
   "metadata": {
    "colab": {
     "base_uri": "https://localhost:8080/"
    },
    "id": "8CdU88nLeQWj",
    "outputId": "3e09b5f2-60dc-4cc7-a664-8813e0bbd7ac"
   },
   "outputs": [
    {
     "name": "stdout",
     "output_type": "stream",
     "text": [
      "Random Forest model's F1 Score:  0.7214285714285714\n"
     ]
    }
   ],
   "source": [
    "print(\"Random Forest model's F1 Score: \", f1_score(y_val, y_preds_model2)) "
   ]
  },
  {
   "cell_type": "code",
   "execution_count": 30,
   "metadata": {
    "colab": {
     "base_uri": "https://localhost:8080/"
    },
    "id": "fj99j0XHWNIn",
    "outputId": "492d5f05-b145-4815-b986-ba12188015a2"
   },
   "outputs": [
    {
     "name": "stdout",
     "output_type": "stream",
     "text": [
      "Random Forest model's Classification Report: \n",
      "               precision    recall  f1-score   support\n",
      "\n",
      "           0       0.71      0.84      0.77       308\n",
      "           1       0.81      0.65      0.72       310\n",
      "\n",
      "    accuracy                           0.75       618\n",
      "   macro avg       0.76      0.75      0.75       618\n",
      "weighted avg       0.76      0.75      0.75       618\n",
      "\n"
     ]
    }
   ],
   "source": [
    "print(\"Random Forest model's Classification Report: \\n\", classification_report(y_val, y_preds_model2))"
   ]
  },
  {
   "cell_type": "markdown",
   "metadata": {
    "id": "WNRf8BMUXW8N"
   },
   "source": [
    "### 3. Extra Tree  "
   ]
  },
  {
   "cell_type": "code",
   "execution_count": 31,
   "metadata": {
    "id": "x2l3Xga0XW8O"
   },
   "outputs": [],
   "source": [
    "from sklearn.ensemble import ExtraTreesClassifier"
   ]
  },
  {
   "cell_type": "code",
   "execution_count": 32,
   "metadata": {
    "id": "Sn4m59cJXW8O"
   },
   "outputs": [],
   "source": [
    "model3 = ExtraTreesClassifier(n_estimators=3000)"
   ]
  },
  {
   "cell_type": "code",
   "execution_count": 33,
   "metadata": {
    "colab": {
     "base_uri": "https://localhost:8080/"
    },
    "id": "2kKytEd3XW8O",
    "outputId": "2822c6b2-30c8-4205-9659-40753010d603"
   },
   "outputs": [
    {
     "data": {
      "text/plain": [
       "ExtraTreesClassifier(n_estimators=3000)"
      ]
     },
     "execution_count": 33,
     "metadata": {},
     "output_type": "execute_result"
    }
   ],
   "source": [
    "model3.fit(X_train, y_train)"
   ]
  },
  {
   "cell_type": "code",
   "execution_count": 34,
   "metadata": {
    "id": "PZBjvp7gXW8P"
   },
   "outputs": [],
   "source": [
    "y_preds_model3 = model3.predict(X_val)"
   ]
  },
  {
   "cell_type": "code",
   "execution_count": 35,
   "metadata": {
    "colab": {
     "base_uri": "https://localhost:8080/"
    },
    "id": "jwm6CNM7XW8P",
    "outputId": "a0b1ee2a-b88b-4cae-db8d-eb37efd95260"
   },
   "outputs": [
    {
     "name": "stdout",
     "output_type": "stream",
     "text": [
      "Extra Tree model's accuracy:  0.7572815533980582\n"
     ]
    }
   ],
   "source": [
    "print(\"Extra Tree model's accuracy: \", accuracy_score(y_val, y_preds_model3))"
   ]
  },
  {
   "cell_type": "code",
   "execution_count": 36,
   "metadata": {
    "colab": {
     "base_uri": "https://localhost:8080/"
    },
    "id": "LdpJLEPseUQO",
    "outputId": "684334ce-db80-4c57-a830-fd58c1e382aa"
   },
   "outputs": [
    {
     "name": "stdout",
     "output_type": "stream",
     "text": [
      "Extra Tree model's F1 Score:  0.7448979591836735\n"
     ]
    }
   ],
   "source": [
    "print(\"Extra Tree model's F1 Score: \", f1_score(y_val, y_preds_model3)) "
   ]
  },
  {
   "cell_type": "code",
   "execution_count": 44,
   "metadata": {
    "colab": {
     "base_uri": "https://localhost:8080/"
    },
    "id": "wqsIXxsMXW8P",
    "outputId": "e42818ee-9911-46c0-d280-9050b74839a6"
   },
   "outputs": [
    {
     "name": "stdout",
     "output_type": "stream",
     "text": [
      "Extra Tree model's Classification Report: \n",
      "               precision    recall  f1-score   support\n",
      "\n",
      "           0       0.73      0.81      0.77       308\n",
      "           1       0.79      0.71      0.74       310\n",
      "\n",
      "    accuracy                           0.76       618\n",
      "   macro avg       0.76      0.76      0.76       618\n",
      "weighted avg       0.76      0.76      0.76       618\n",
      "\n"
     ]
    }
   ],
   "source": [
    "print(\"Extra Tree model's Classification Report: \\n\", classification_report(y_val, y_preds_model3))"
   ]
  },
  {
   "cell_type": "markdown",
   "metadata": {
    "id": "sTuxk62aev4v"
   },
   "source": [
    "## Predicting the Output For Testing Dataset"
   ]
  },
  {
   "cell_type": "code",
   "execution_count": 48,
   "metadata": {
    "id": "7lq4OTQfef3m"
   },
   "outputs": [],
   "source": [
    "test_data = pd.read_csv(r\"C:\\Users\\soory\\Downloads\\review_test_set.csv\")"
   ]
  },
  {
   "cell_type": "code",
   "execution_count": 49,
   "metadata": {
    "colab": {
     "base_uri": "https://localhost:8080/",
     "height": 203
    },
    "id": "10NxhQ2-a_d2",
    "outputId": "f3c36fb4-9c23-4a5e-b5b6-61e639537357"
   },
   "outputs": [
    {
     "data": {
      "text/html": [
       "<div>\n",
       "<style scoped>\n",
       "    .dataframe tbody tr th:only-of-type {\n",
       "        vertical-align: middle;\n",
       "    }\n",
       "\n",
       "    .dataframe tbody tr th {\n",
       "        vertical-align: top;\n",
       "    }\n",
       "\n",
       "    .dataframe thead th {\n",
       "        text-align: right;\n",
       "    }\n",
       "</style>\n",
       "<table border=\"1\" class=\"dataframe\">\n",
       "  <thead>\n",
       "    <tr style=\"text-align: right;\">\n",
       "      <th></th>\n",
       "      <th>review</th>\n",
       "    </tr>\n",
       "  </thead>\n",
       "  <tbody>\n",
       "    <tr>\n",
       "      <th>0</th>\n",
       "      <td>great service food</td>\n",
       "    </tr>\n",
       "    <tr>\n",
       "      <th>1</th>\n",
       "      <td>pairing iphone could happier far</td>\n",
       "    </tr>\n",
       "    <tr>\n",
       "      <th>2</th>\n",
       "      <td>plot hole pair fishnet stocking direction edit...</td>\n",
       "    </tr>\n",
       "    <tr>\n",
       "      <th>3</th>\n",
       "      <td>surely doesnt know make coherent action movie ...</td>\n",
       "    </tr>\n",
       "    <tr>\n",
       "      <th>4</th>\n",
       "      <td>still quite interesting entertaining follow</td>\n",
       "    </tr>\n",
       "  </tbody>\n",
       "</table>\n",
       "</div>"
      ],
      "text/plain": [
       "                                              review\n",
       "0                                 great service food\n",
       "1                   pairing iphone could happier far\n",
       "2  plot hole pair fishnet stocking direction edit...\n",
       "3  surely doesnt know make coherent action movie ...\n",
       "4        still quite interesting entertaining follow"
      ]
     },
     "execution_count": 49,
     "metadata": {},
     "output_type": "execute_result"
    }
   ],
   "source": [
    "test_data.head()"
   ]
  },
  {
   "cell_type": "code",
   "execution_count": 50,
   "metadata": {
    "colab": {
     "base_uri": "https://localhost:8080/"
    },
    "id": "JxsZhhwrfSYO",
    "outputId": "e5f7e07f-a762-4686-ebac-2f54ce6bee53"
   },
   "outputs": [
    {
     "name": "stdout",
     "output_type": "stream",
     "text": [
      "<class 'pandas.core.frame.DataFrame'>\n",
      "RangeIndex: 686 entries, 0 to 685\n",
      "Data columns (total 1 columns):\n",
      " #   Column  Non-Null Count  Dtype \n",
      "---  ------  --------------  ----- \n",
      " 0   review  686 non-null    object\n",
      "dtypes: object(1)\n",
      "memory usage: 5.5+ KB\n"
     ]
    }
   ],
   "source": [
    "test_data.info()"
   ]
  },
  {
   "cell_type": "code",
   "execution_count": 51,
   "metadata": {
    "id": "mTqAXelkfVDs"
   },
   "outputs": [],
   "source": [
    "test_data['review'] = test_data['review'].str.lower()\n",
    "\n",
    "\n",
    "def remove_special_characters(text, remove_digits=True):\n",
    "  pattern = r'[^a-zA-Z0-9\\s]' if not remove_digits else r'[^a-zA-Z\\s]'\n",
    "  text = re.sub(pattern, '', str(text))\n",
    "  return text\n",
    "\n",
    "test_data['review'] = test_data['review'].apply(remove_special_characters, remove_digits=False)\n",
    "\n",
    "def f(r):\n",
    "  wnl = WordNetLemmatizer()\n",
    "  words = nltk.word_tokenize(r)\n",
    "  lemmatized_words = [wnl.lemmatize(word) for word in words if word not in set(stopwords.words('english'))]\n",
    "  return \" \".join(lemmatized_words)\n",
    "\n",
    "test_data['review'] = test_data['review'].apply(f)"
   ]
  },
  {
   "cell_type": "code",
   "execution_count": 52,
   "metadata": {
    "id": "CRb02iqkfZ68"
   },
   "outputs": [],
   "source": [
    "test = cv.transform(test_data['review']).toarray()\n",
    "test_data = pd.DataFrame(test, columns=cv.get_feature_names())"
   ]
  },
  {
   "cell_type": "code",
   "execution_count": 53,
   "metadata": {
    "id": "EZo5GXBMfd8T"
   },
   "outputs": [],
   "source": [
    "target = model3.predict(test_data)"
   ]
  },
  {
   "cell_type": "code",
   "execution_count": 55,
   "metadata": {
    "colab": {
     "base_uri": "https://localhost:8080/",
     "height": 17
    },
    "id": "WC9U6KiVfnMJ",
    "outputId": "36889e30-afc1-4495-8177-68007f06aa43"
   },
   "outputs": [],
   "source": [
    "res = pd.DataFrame(target) #target is nothing but the final predictions of your model on input features of your new unseen test data\n",
    "res.columns = [\"prediction\"]\n",
    "res.to_csv(\"submission.csv\", index = False) # the csv file will be saved locally on the same location where this notebook is located."
   ]
  }
 ],
 "metadata": {
  "colab": {
   "collapsed_sections": [],
   "name": "Spp_NLP_1_Tweets_Abuse_Classification",
   "provenance": []
  },
  "kernelspec": {
   "display_name": "Python 3",
   "language": "python",
   "name": "python3"
  },
  "language_info": {
   "codemirror_mode": {
    "name": "ipython",
    "version": 3
   },
   "file_extension": ".py",
   "mimetype": "text/x-python",
   "name": "python",
   "nbconvert_exporter": "python",
   "pygments_lexer": "ipython3",
   "version": "3.9.6"
  }
 },
 "nbformat": 4,
 "nbformat_minor": 1
}
