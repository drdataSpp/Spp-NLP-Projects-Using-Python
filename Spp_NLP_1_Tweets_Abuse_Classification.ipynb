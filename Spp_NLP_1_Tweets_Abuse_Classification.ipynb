{
  "nbformat": 4,
  "nbformat_minor": 0,
  "metadata": {
    "colab": {
      "name": "Spp_NLP_1_Tweets_Abuse_Classification",
      "provenance": [],
      "collapsed_sections": []
    },
    "kernelspec": {
      "name": "python3",
      "display_name": "Python 3"
    },
    "language_info": {
      "name": "python"
    }
  },
  "cells": [
    {
      "cell_type": "markdown",
      "metadata": {
        "id": "H5VH_F2TgY3C"
      },
      "source": [
        "# Tweets Abuse Classification"
      ]
    },
    {
      "cell_type": "markdown",
      "metadata": {
        "id": "WwQc_Q9NgcxW"
      },
      "source": [
        "### By: Soorya Parthiban"
      ]
    },
    {
      "cell_type": "markdown",
      "metadata": {
        "id": "X2RjEHvrgi3_"
      },
      "source": [
        "## Problem Statement: Build a machine learning model to classify the abuse tweets."
      ]
    },
    {
      "cell_type": "markdown",
      "metadata": {
        "id": "pAybeDD8OTEb"
      },
      "source": [
        "## Importing Library & Dataset"
      ]
    },
    {
      "cell_type": "code",
      "metadata": {
        "colab": {
          "base_uri": "https://localhost:8080/"
        },
        "id": "aLPIp_hwMpuH",
        "outputId": "72012003-b243-4f6c-c317-ff9694e5693b"
      },
      "source": [
        "import numpy as np\n",
        "import pandas as pd \n",
        "\n",
        "import warnings\n",
        "warnings.filterwarnings(\"ignore\")\n",
        "\n",
        "import re\n",
        "import nltk\n",
        "from nltk.stem import WordNetLemmatizer\n",
        "from nltk.corpus import stopwords\n",
        "nltk.download('punkt')\n",
        "nltk.download('stopwords')\n",
        "nltk.download('wordnet')"
      ],
      "execution_count": 1,
      "outputs": [
        {
          "output_type": "stream",
          "text": [
            "[nltk_data] Downloading package punkt to /root/nltk_data...\n",
            "[nltk_data]   Unzipping tokenizers/punkt.zip.\n",
            "[nltk_data] Downloading package stopwords to /root/nltk_data...\n",
            "[nltk_data]   Unzipping corpora/stopwords.zip.\n",
            "[nltk_data] Downloading package wordnet to /root/nltk_data...\n",
            "[nltk_data]   Unzipping corpora/wordnet.zip.\n"
          ],
          "name": "stdout"
        },
        {
          "output_type": "execute_result",
          "data": {
            "text/plain": [
              "True"
            ]
          },
          "metadata": {},
          "execution_count": 1
        }
      ]
    },
    {
      "cell_type": "code",
      "metadata": {
        "colab": {
          "base_uri": "https://localhost:8080/"
        },
        "id": "TcDjRM88NdqI",
        "outputId": "8ee3d888-070c-4687-f095-1991b7010d59"
      },
      "source": [
        "from google.colab import drive\n",
        "drive.mount('/content/drive')"
      ],
      "execution_count": 3,
      "outputs": [
        {
          "output_type": "stream",
          "text": [
            "Mounted at /content/drive\n"
          ],
          "name": "stdout"
        }
      ]
    },
    {
      "cell_type": "code",
      "metadata": {
        "colab": {
          "base_uri": "https://localhost:8080/"
        },
        "id": "juTEXds4NeKr",
        "outputId": "c6f4f50c-3777-4318-c5e0-4ca8aa55f4ce"
      },
      "source": [
        "!ls '/content/drive/'"
      ],
      "execution_count": 10,
      "outputs": [
        {
          "output_type": "stream",
          "text": [
            "MyDrive\n"
          ],
          "name": "stdout"
        }
      ]
    },
    {
      "cell_type": "code",
      "metadata": {
        "colab": {
          "base_uri": "https://localhost:8080/"
        },
        "id": "XgOUC4OwNryN",
        "outputId": "df96d955-7d9f-40ab-d403-29aa794a9f31"
      },
      "source": [
        "!ls '/content/drive/MyDrive/'"
      ],
      "execution_count": 11,
      "outputs": [
        {
          "output_type": "stream",
          "text": [
            "'Brain Dataset'\t\t\t\t      twitter_data_test.xls\n",
            " Brain-Tumour-Dataset\t\t\t      twitter_data_train.csv\n",
            "'Cats&Dogs'\t\t\t\t      Xception.h5\n",
            "'Colab Notebooks'\t\t\t      x_test.pkl\n",
            "'Copy of it7510-iter2-xception-model.ipynb'   x_train.pkl\n",
            " InceptionResNetV2.h5\t\t\t      y_test.pkl\n",
            " it7510-iter2-xception-model.ipynb\t      y_train.pkl\n"
          ],
          "name": "stdout"
        }
      ]
    },
    {
      "cell_type": "code",
      "metadata": {
        "id": "7Ee3A0O2NqCY"
      },
      "source": [
        "twitter_df = pd.read_csv('/content/drive/MyDrive/twitter_data_train.csv')"
      ],
      "execution_count": 12,
      "outputs": []
    },
    {
      "cell_type": "code",
      "metadata": {
        "colab": {
          "base_uri": "https://localhost:8080/",
          "height": 203
        },
        "id": "ur09goKRNoQa",
        "outputId": "bde3e028-2015-4b81-c87b-1ddf99ae59ba"
      },
      "source": [
        "twitter_df.head()"
      ],
      "execution_count": 13,
      "outputs": [
        {
          "output_type": "execute_result",
          "data": {
            "text/html": [
              "<div>\n",
              "<style scoped>\n",
              "    .dataframe tbody tr th:only-of-type {\n",
              "        vertical-align: middle;\n",
              "    }\n",
              "\n",
              "    .dataframe tbody tr th {\n",
              "        vertical-align: top;\n",
              "    }\n",
              "\n",
              "    .dataframe thead th {\n",
              "        text-align: right;\n",
              "    }\n",
              "</style>\n",
              "<table border=\"1\" class=\"dataframe\">\n",
              "  <thead>\n",
              "    <tr style=\"text-align: right;\">\n",
              "      <th></th>\n",
              "      <th>tweet</th>\n",
              "      <th>label</th>\n",
              "    </tr>\n",
              "  </thead>\n",
              "  <tbody>\n",
              "    <tr>\n",
              "      <th>0</th>\n",
              "      <td>start your day w your daily here</td>\n",
              "      <td>3</td>\n",
              "    </tr>\n",
              "    <tr>\n",
              "      <th>1</th>\n",
              "      <td>even a perfect life doesn’t feel perfect in so...</td>\n",
              "      <td>3</td>\n",
              "    </tr>\n",
              "    <tr>\n",
              "      <th>2</th>\n",
              "      <td>great ready for next week s q amp a with white...</td>\n",
              "      <td>3</td>\n",
              "    </tr>\n",
              "    <tr>\n",
              "      <th>3</th>\n",
              "      <td>5 ways to protect your mental health during th...</td>\n",
              "      <td>3</td>\n",
              "    </tr>\n",
              "    <tr>\n",
              "      <th>4</th>\n",
              "      <td>i m officially an occupational therapist passe...</td>\n",
              "      <td>3</td>\n",
              "    </tr>\n",
              "  </tbody>\n",
              "</table>\n",
              "</div>"
            ],
            "text/plain": [
              "                                               tweet  label\n",
              "0                   start your day w your daily here      3\n",
              "1  even a perfect life doesn’t feel perfect in so...      3\n",
              "2  great ready for next week s q amp a with white...      3\n",
              "3  5 ways to protect your mental health during th...      3\n",
              "4  i m officially an occupational therapist passe...      3"
            ]
          },
          "metadata": {},
          "execution_count": 13
        }
      ]
    },
    {
      "cell_type": "code",
      "metadata": {
        "colab": {
          "base_uri": "https://localhost:8080/",
          "height": 203
        },
        "id": "BsGni7PYNj8a",
        "outputId": "815016f5-82e2-4f71-d3da-cd3f36b515d2"
      },
      "source": [
        "twitter_df.tail()"
      ],
      "execution_count": 14,
      "outputs": [
        {
          "output_type": "execute_result",
          "data": {
            "text/html": [
              "<div>\n",
              "<style scoped>\n",
              "    .dataframe tbody tr th:only-of-type {\n",
              "        vertical-align: middle;\n",
              "    }\n",
              "\n",
              "    .dataframe tbody tr th {\n",
              "        vertical-align: top;\n",
              "    }\n",
              "\n",
              "    .dataframe thead th {\n",
              "        text-align: right;\n",
              "    }\n",
              "</style>\n",
              "<table border=\"1\" class=\"dataframe\">\n",
              "  <thead>\n",
              "    <tr style=\"text-align: right;\">\n",
              "      <th></th>\n",
              "      <th>tweet</th>\n",
              "      <th>label</th>\n",
              "    </tr>\n",
              "  </thead>\n",
              "  <tbody>\n",
              "    <tr>\n",
              "      <th>2345</th>\n",
              "      <td>discussion tonight tune in fb live</td>\n",
              "      <td>3</td>\n",
              "    </tr>\n",
              "    <tr>\n",
              "      <th>2346</th>\n",
              "      <td>as current events are showing change can be su...</td>\n",
              "      <td>3</td>\n",
              "    </tr>\n",
              "    <tr>\n",
              "      <th>2347</th>\n",
              "      <td>beyond grateful to join in an open and honest ...</td>\n",
              "      <td>3</td>\n",
              "    </tr>\n",
              "    <tr>\n",
              "      <th>2348</th>\n",
              "      <td>to some degree we are all feeling if you are f...</td>\n",
              "      <td>3</td>\n",
              "    </tr>\n",
              "    <tr>\n",
              "      <th>2349</th>\n",
              "      <td>‘you’re in charge’ sessions on amp 💚#teampatie...</td>\n",
              "      <td>3</td>\n",
              "    </tr>\n",
              "  </tbody>\n",
              "</table>\n",
              "</div>"
            ],
            "text/plain": [
              "                                                  tweet  label\n",
              "2345                 discussion tonight tune in fb live      3\n",
              "2346  as current events are showing change can be su...      3\n",
              "2347  beyond grateful to join in an open and honest ...      3\n",
              "2348  to some degree we are all feeling if you are f...      3\n",
              "2349  ‘you’re in charge’ sessions on amp 💚#teampatie...      3"
            ]
          },
          "metadata": {},
          "execution_count": 14
        }
      ]
    },
    {
      "cell_type": "code",
      "metadata": {
        "colab": {
          "base_uri": "https://localhost:8080/"
        },
        "id": "9icNtMjtMtm2",
        "outputId": "ac098332-7ac1-49bf-c1d5-b118295f31ec"
      },
      "source": [
        "twitter_df['label'].describe().T"
      ],
      "execution_count": 15,
      "outputs": [
        {
          "output_type": "execute_result",
          "data": {
            "text/plain": [
              "count    2350.000000\n",
              "mean        2.895319\n",
              "std         0.381706\n",
              "min         1.000000\n",
              "25%         3.000000\n",
              "50%         3.000000\n",
              "75%         3.000000\n",
              "max         3.000000\n",
              "Name: label, dtype: float64"
            ]
          },
          "metadata": {},
          "execution_count": 15
        }
      ]
    },
    {
      "cell_type": "code",
      "metadata": {
        "colab": {
          "base_uri": "https://localhost:8080/"
        },
        "id": "zpNwTaIVOM_u",
        "outputId": "47adb520-dfb3-4d11-cdf6-72bc37943bcd"
      },
      "source": [
        "twitter_df.info()"
      ],
      "execution_count": 16,
      "outputs": [
        {
          "output_type": "stream",
          "text": [
            "<class 'pandas.core.frame.DataFrame'>\n",
            "RangeIndex: 2350 entries, 0 to 2349\n",
            "Data columns (total 2 columns):\n",
            " #   Column  Non-Null Count  Dtype \n",
            "---  ------  --------------  ----- \n",
            " 0   tweet   2349 non-null   object\n",
            " 1   label   2350 non-null   int64 \n",
            "dtypes: int64(1), object(1)\n",
            "memory usage: 36.8+ KB\n"
          ],
          "name": "stdout"
        }
      ]
    },
    {
      "cell_type": "code",
      "metadata": {
        "colab": {
          "base_uri": "https://localhost:8080/"
        },
        "id": "LSUafOb7M-SP",
        "outputId": "45328598-d07e-4cbf-f215-f67e62fda307"
      },
      "source": [
        "twitter_df.isnull().sum()"
      ],
      "execution_count": 17,
      "outputs": [
        {
          "output_type": "execute_result",
          "data": {
            "text/plain": [
              "tweet    1\n",
              "label    0\n",
              "dtype: int64"
            ]
          },
          "metadata": {},
          "execution_count": 17
        }
      ]
    },
    {
      "cell_type": "code",
      "metadata": {
        "id": "rK2rpebhO0T0"
      },
      "source": [
        "twitter_df.dropna(inplace=True)"
      ],
      "execution_count": 18,
      "outputs": []
    },
    {
      "cell_type": "code",
      "metadata": {
        "colab": {
          "base_uri": "https://localhost:8080/"
        },
        "id": "_x93J3T-P8tg",
        "outputId": "410fbac1-7ad9-4bcc-fc98-f53c6c58bcae"
      },
      "source": [
        "twitter_df.isnull().sum()"
      ],
      "execution_count": 31,
      "outputs": [
        {
          "output_type": "execute_result",
          "data": {
            "text/plain": [
              "tweet    0\n",
              "label    0\n",
              "dtype: int64"
            ]
          },
          "metadata": {},
          "execution_count": 31
        }
      ]
    },
    {
      "cell_type": "code",
      "metadata": {
        "colab": {
          "base_uri": "https://localhost:8080/"
        },
        "id": "GOeCgxydVTTd",
        "outputId": "93f08d7d-3d11-498f-ddaf-f7c460c4d829"
      },
      "source": [
        "twitter_df['label'].value_counts()"
      ],
      "execution_count": 32,
      "outputs": [
        {
          "output_type": "execute_result",
          "data": {
            "text/plain": [
              "3    2164\n",
              "2     124\n",
              "1      61\n",
              "Name: label, dtype: int64"
            ]
          },
          "metadata": {},
          "execution_count": 32
        }
      ]
    },
    {
      "cell_type": "markdown",
      "metadata": {
        "id": "4EliRo55QTp7"
      },
      "source": [
        "## Data Pre-Processing"
      ]
    },
    {
      "cell_type": "code",
      "metadata": {
        "id": "v1dueuLgQTXJ"
      },
      "source": [
        "twitter_df['tweet'] = twitter_df['tweet'].str.lower()\n",
        "\n",
        "\n",
        "def remove_special_characters(text, remove_digits=True):\n",
        "  pattern = r'[^a-zA-Z0-9\\s]' if not remove_digits else r'[^a-zA-Z\\s]'\n",
        "  text = re.sub(pattern, '', str(text))\n",
        "  return text\n",
        "\n",
        "twitter_df['tweet'] = twitter_df['tweet'].apply(remove_special_characters, remove_digits=False)\n",
        "\n",
        "def f(r):\n",
        "  wnl = WordNetLemmatizer()\n",
        "  words = nltk.word_tokenize(r)\n",
        "  lemmatized_words = [wnl.lemmatize(word) for word in words if word not in set(stopwords.words('english'))]\n",
        "  return \" \".join(lemmatized_words)\n",
        "\n",
        "twitter_df['tweet'] = twitter_df['tweet'].apply(f)"
      ],
      "execution_count": 20,
      "outputs": []
    },
    {
      "cell_type": "code",
      "metadata": {
        "id": "_8cAWiy_P_b0"
      },
      "source": [
        "from sklearn.feature_extraction.text import CountVectorizer\n",
        "\n",
        "cv = CountVectorizer()\n",
        "data_X = cv.fit_transform(twitter_df['tweet']).toarray()\n",
        "data_X = pd.DataFrame(data_X, columns=cv.get_feature_names())"
      ],
      "execution_count": 22,
      "outputs": []
    },
    {
      "cell_type": "code",
      "metadata": {
        "id": "rkQTaLXUQoeG"
      },
      "source": [
        "X = data_X\n",
        "y = twitter_df.label"
      ],
      "execution_count": 24,
      "outputs": []
    },
    {
      "cell_type": "code",
      "metadata": {
        "id": "ft2acdaKS5ua"
      },
      "source": [
        "from sklearn.model_selection import train_test_split\n",
        "X_train, X_val, y_train, y_val = train_test_split(X, y, test_size=0.3)"
      ],
      "execution_count": 25,
      "outputs": []
    },
    {
      "cell_type": "code",
      "metadata": {
        "colab": {
          "base_uri": "https://localhost:8080/"
        },
        "id": "uM6J-6czTCF6",
        "outputId": "5b9f77a9-18bf-4950-fde0-4c799dc28f5d"
      },
      "source": [
        "print(X_train.shape, X_val.shape)"
      ],
      "execution_count": 26,
      "outputs": [
        {
          "output_type": "stream",
          "text": [
            "(1644, 5999) (705, 5999)\n"
          ],
          "name": "stdout"
        }
      ]
    },
    {
      "cell_type": "markdown",
      "metadata": {
        "id": "K28H7FsfUOp3"
      },
      "source": [
        "## Building the ML Models"
      ]
    },
    {
      "cell_type": "code",
      "metadata": {
        "id": "gtU97oUwUkvd"
      },
      "source": [
        "from sklearn.metrics import accuracy_score, classification_report, confusion_matrix, f1_score"
      ],
      "execution_count": 58,
      "outputs": []
    },
    {
      "cell_type": "markdown",
      "metadata": {
        "id": "bgYb6ZlsUOe7"
      },
      "source": [
        "### 1. Decision Tree  "
      ]
    },
    {
      "cell_type": "code",
      "metadata": {
        "id": "UdMV9Oh4TRIs"
      },
      "source": [
        "from sklearn.tree import DecisionTreeClassifier"
      ],
      "execution_count": 27,
      "outputs": []
    },
    {
      "cell_type": "code",
      "metadata": {
        "id": "LlOKxw53Ua0r"
      },
      "source": [
        "model1 = DecisionTreeClassifier()"
      ],
      "execution_count": 28,
      "outputs": []
    },
    {
      "cell_type": "code",
      "metadata": {
        "colab": {
          "base_uri": "https://localhost:8080/"
        },
        "id": "Hcw-iGR7Uey_",
        "outputId": "61072720-c1fb-4afa-ee14-f88975452e56"
      },
      "source": [
        "model1.fit(X_train, y_train)"
      ],
      "execution_count": 29,
      "outputs": [
        {
          "output_type": "execute_result",
          "data": {
            "text/plain": [
              "DecisionTreeClassifier(ccp_alpha=0.0, class_weight=None, criterion='gini',\n",
              "                       max_depth=None, max_features=None, max_leaf_nodes=None,\n",
              "                       min_impurity_decrease=0.0, min_impurity_split=None,\n",
              "                       min_samples_leaf=1, min_samples_split=2,\n",
              "                       min_weight_fraction_leaf=0.0, presort='deprecated',\n",
              "                       random_state=None, splitter='best')"
            ]
          },
          "metadata": {},
          "execution_count": 29
        }
      ]
    },
    {
      "cell_type": "code",
      "metadata": {
        "id": "bSNPCaGGUi7R"
      },
      "source": [
        "y_preds_model1 = model1.predict(X_val)"
      ],
      "execution_count": 33,
      "outputs": []
    },
    {
      "cell_type": "code",
      "metadata": {
        "colab": {
          "base_uri": "https://localhost:8080/"
        },
        "id": "z1n9tRgkVpO4",
        "outputId": "b29a9957-45a5-4f31-ace8-540b4a710165"
      },
      "source": [
        "print(\"Decision Tree model's accuracy: \", accuracy_score(y_val, y_preds_model1))"
      ],
      "execution_count": 59,
      "outputs": [
        {
          "output_type": "stream",
          "text": [
            "Decision Tree model's accuracy:  0.8680851063829788\n"
          ],
          "name": "stdout"
        }
      ]
    },
    {
      "cell_type": "code",
      "metadata": {
        "colab": {
          "base_uri": "https://localhost:8080/"
        },
        "id": "TDWWhY_leE3O",
        "outputId": "4c78b927-6e30-4d01-e6bf-ef4980297871"
      },
      "source": [
        "print(\"Decision Tree model's F1 Score: \", f1_score(y_val, y_preds_model1, average='weighted')) "
      ],
      "execution_count": 60,
      "outputs": [
        {
          "output_type": "stream",
          "text": [
            "Decision Tree model's F1 Score:  0.8541723784489001\n"
          ],
          "name": "stdout"
        }
      ]
    },
    {
      "cell_type": "code",
      "metadata": {
        "colab": {
          "base_uri": "https://localhost:8080/"
        },
        "id": "Am1MYOSWVvci",
        "outputId": "afa66f0f-4210-4231-a90f-e916fa130ff4"
      },
      "source": [
        "print(\"Decision Tree model's Classification Report: \\n\", classification_report(y_val, y_preds_model1))"
      ],
      "execution_count": 36,
      "outputs": [
        {
          "output_type": "stream",
          "text": [
            "Decision Tree model's Classification Report: \n",
            "               precision    recall  f1-score   support\n",
            "\n",
            "           1       0.10      0.06      0.07        17\n",
            "           2       0.10      0.07      0.08        46\n",
            "           3       0.91      0.95      0.93       642\n",
            "\n",
            "    accuracy                           0.87       705\n",
            "   macro avg       0.37      0.36      0.36       705\n",
            "weighted avg       0.84      0.87      0.85       705\n",
            "\n"
          ],
          "name": "stdout"
        }
      ]
    },
    {
      "cell_type": "markdown",
      "metadata": {
        "id": "2Arcu0hfWNIk"
      },
      "source": [
        "### 2. Random Forest  "
      ]
    },
    {
      "cell_type": "code",
      "metadata": {
        "id": "HjovhxVEWNIl"
      },
      "source": [
        "from sklearn.ensemble import RandomForestClassifier"
      ],
      "execution_count": 37,
      "outputs": []
    },
    {
      "cell_type": "code",
      "metadata": {
        "id": "F0jVUpgZWNIl"
      },
      "source": [
        "model2 = RandomForestClassifier(n_estimators=3000)"
      ],
      "execution_count": 38,
      "outputs": []
    },
    {
      "cell_type": "code",
      "metadata": {
        "colab": {
          "base_uri": "https://localhost:8080/"
        },
        "id": "OcHV-8fkWNIm",
        "outputId": "8b99e42b-7382-497d-aab5-911671856107"
      },
      "source": [
        "model2.fit(X_train, y_train)"
      ],
      "execution_count": 39,
      "outputs": [
        {
          "output_type": "execute_result",
          "data": {
            "text/plain": [
              "RandomForestClassifier(bootstrap=True, ccp_alpha=0.0, class_weight=None,\n",
              "                       criterion='gini', max_depth=None, max_features='auto',\n",
              "                       max_leaf_nodes=None, max_samples=None,\n",
              "                       min_impurity_decrease=0.0, min_impurity_split=None,\n",
              "                       min_samples_leaf=1, min_samples_split=2,\n",
              "                       min_weight_fraction_leaf=0.0, n_estimators=3000,\n",
              "                       n_jobs=None, oob_score=False, random_state=None,\n",
              "                       verbose=0, warm_start=False)"
            ]
          },
          "metadata": {},
          "execution_count": 39
        }
      ]
    },
    {
      "cell_type": "code",
      "metadata": {
        "id": "aslUvj7kWNIm"
      },
      "source": [
        "y_preds_model2 = model2.predict(X_val)"
      ],
      "execution_count": 40,
      "outputs": []
    },
    {
      "cell_type": "code",
      "metadata": {
        "colab": {
          "base_uri": "https://localhost:8080/"
        },
        "id": "ly0y10R3WNIm",
        "outputId": "a112d0e8-228d-4418-b621-9f4e01c40477"
      },
      "source": [
        "print(\"Random Forest model's accuracy: \", accuracy_score(y_val, y_preds_model2))"
      ],
      "execution_count": 61,
      "outputs": [
        {
          "output_type": "stream",
          "text": [
            "Random Forest model's accuracy:  0.9106382978723404\n"
          ],
          "name": "stdout"
        }
      ]
    },
    {
      "cell_type": "code",
      "metadata": {
        "colab": {
          "base_uri": "https://localhost:8080/"
        },
        "id": "8CdU88nLeQWj",
        "outputId": "3e09b5f2-60dc-4cc7-a664-8813e0bbd7ac"
      },
      "source": [
        "print(\"Random Forest model's F1 Score: \", f1_score(y_val, y_preds_model2, average='weighted')) "
      ],
      "execution_count": 62,
      "outputs": [
        {
          "output_type": "stream",
          "text": [
            "Random Forest model's F1 Score:  0.8706631396088013\n"
          ],
          "name": "stdout"
        }
      ]
    },
    {
      "cell_type": "code",
      "metadata": {
        "colab": {
          "base_uri": "https://localhost:8080/"
        },
        "id": "fj99j0XHWNIn",
        "outputId": "492d5f05-b145-4815-b986-ba12188015a2"
      },
      "source": [
        "print(\"Random Forest model's Classification Report: \\n\", classification_report(y_val, y_preds_model2))"
      ],
      "execution_count": 42,
      "outputs": [
        {
          "output_type": "stream",
          "text": [
            "Random Forest model's Classification Report: \n",
            "               precision    recall  f1-score   support\n",
            "\n",
            "           1       1.00      0.06      0.11        17\n",
            "           2       0.00      0.00      0.00        46\n",
            "           3       0.91      1.00      0.95       642\n",
            "\n",
            "    accuracy                           0.91       705\n",
            "   macro avg       0.64      0.35      0.35       705\n",
            "weighted avg       0.85      0.91      0.87       705\n",
            "\n"
          ],
          "name": "stdout"
        }
      ]
    },
    {
      "cell_type": "markdown",
      "metadata": {
        "id": "WNRf8BMUXW8N"
      },
      "source": [
        "### 3. Extra Tree  "
      ]
    },
    {
      "cell_type": "code",
      "metadata": {
        "id": "x2l3Xga0XW8O"
      },
      "source": [
        "from sklearn.ensemble import ExtraTreesClassifier"
      ],
      "execution_count": 44,
      "outputs": []
    },
    {
      "cell_type": "code",
      "metadata": {
        "id": "Sn4m59cJXW8O"
      },
      "source": [
        "model3 = ExtraTreesClassifier(n_estimators=3000)"
      ],
      "execution_count": 45,
      "outputs": []
    },
    {
      "cell_type": "code",
      "metadata": {
        "colab": {
          "base_uri": "https://localhost:8080/"
        },
        "id": "2kKytEd3XW8O",
        "outputId": "2822c6b2-30c8-4205-9659-40753010d603"
      },
      "source": [
        "model3.fit(X_train, y_train)"
      ],
      "execution_count": 46,
      "outputs": [
        {
          "output_type": "execute_result",
          "data": {
            "text/plain": [
              "ExtraTreesClassifier(bootstrap=False, ccp_alpha=0.0, class_weight=None,\n",
              "                     criterion='gini', max_depth=None, max_features='auto',\n",
              "                     max_leaf_nodes=None, max_samples=None,\n",
              "                     min_impurity_decrease=0.0, min_impurity_split=None,\n",
              "                     min_samples_leaf=1, min_samples_split=2,\n",
              "                     min_weight_fraction_leaf=0.0, n_estimators=3000,\n",
              "                     n_jobs=None, oob_score=False, random_state=None, verbose=0,\n",
              "                     warm_start=False)"
            ]
          },
          "metadata": {},
          "execution_count": 46
        }
      ]
    },
    {
      "cell_type": "code",
      "metadata": {
        "id": "PZBjvp7gXW8P"
      },
      "source": [
        "y_preds_model3 = model3.predict(X_val)"
      ],
      "execution_count": 47,
      "outputs": []
    },
    {
      "cell_type": "code",
      "metadata": {
        "colab": {
          "base_uri": "https://localhost:8080/"
        },
        "id": "jwm6CNM7XW8P",
        "outputId": "a0b1ee2a-b88b-4cae-db8d-eb37efd95260"
      },
      "source": [
        "print(\"Extra Tree model's accuracy: \", accuracy_score(y_val, y_preds_model3))"
      ],
      "execution_count": 63,
      "outputs": [
        {
          "output_type": "stream",
          "text": [
            "Extra Tree model's accuracy:  0.9063829787234042\n"
          ],
          "name": "stdout"
        }
      ]
    },
    {
      "cell_type": "code",
      "metadata": {
        "colab": {
          "base_uri": "https://localhost:8080/"
        },
        "id": "LdpJLEPseUQO",
        "outputId": "684334ce-db80-4c57-a830-fd58c1e382aa"
      },
      "source": [
        "print(\"Extra Tree model's F1 Score: \", f1_score(y_val, y_preds_model3, average='weighted')) "
      ],
      "execution_count": 64,
      "outputs": [
        {
          "output_type": "stream",
          "text": [
            "Extra Tree model's F1 Score:  0.8685320828327455\n"
          ],
          "name": "stdout"
        }
      ]
    },
    {
      "cell_type": "code",
      "metadata": {
        "colab": {
          "base_uri": "https://localhost:8080/"
        },
        "id": "wqsIXxsMXW8P",
        "outputId": "e42818ee-9911-46c0-d280-9050b74839a6"
      },
      "source": [
        "print(\"Extra Tree model's Classification Report: \\n\", classification_report(y_val, y_preds_model3))"
      ],
      "execution_count": 49,
      "outputs": [
        {
          "output_type": "stream",
          "text": [
            "Extra Tree model's Classification Report: \n",
            "               precision    recall  f1-score   support\n",
            "\n",
            "           1       1.00      0.06      0.11        17\n",
            "           2       0.00      0.00      0.00        46\n",
            "           3       0.91      0.99      0.95       642\n",
            "\n",
            "    accuracy                           0.91       705\n",
            "   macro avg       0.64      0.35      0.35       705\n",
            "weighted avg       0.85      0.91      0.87       705\n",
            "\n"
          ],
          "name": "stdout"
        }
      ]
    },
    {
      "cell_type": "markdown",
      "metadata": {
        "id": "SZT5DWI1aqEG"
      },
      "source": [
        "### 4. XGB Classifier  "
      ]
    },
    {
      "cell_type": "code",
      "metadata": {
        "id": "VSXpLnXWaqEO"
      },
      "source": [
        "from xgboost import XGBClassifier"
      ],
      "execution_count": 50,
      "outputs": []
    },
    {
      "cell_type": "code",
      "metadata": {
        "id": "MuUDXKHwaqEO"
      },
      "source": [
        "model4 = XGBClassifier(n_estimators=500)"
      ],
      "execution_count": 53,
      "outputs": []
    },
    {
      "cell_type": "code",
      "metadata": {
        "colab": {
          "base_uri": "https://localhost:8080/"
        },
        "id": "HuEB2VTIaqEO",
        "outputId": "9ea16357-ad25-4c91-e5d4-5abd91e28b08"
      },
      "source": [
        "model4.fit(X_train, y_train)"
      ],
      "execution_count": 54,
      "outputs": [
        {
          "output_type": "execute_result",
          "data": {
            "text/plain": [
              "XGBClassifier(base_score=0.5, booster='gbtree', colsample_bylevel=1,\n",
              "              colsample_bynode=1, colsample_bytree=1, gamma=0,\n",
              "              learning_rate=0.1, max_delta_step=0, max_depth=3,\n",
              "              min_child_weight=1, missing=None, n_estimators=500, n_jobs=1,\n",
              "              nthread=None, objective='multi:softprob', random_state=0,\n",
              "              reg_alpha=0, reg_lambda=1, scale_pos_weight=1, seed=None,\n",
              "              silent=None, subsample=1, verbosity=1)"
            ]
          },
          "metadata": {},
          "execution_count": 54
        }
      ]
    },
    {
      "cell_type": "code",
      "metadata": {
        "id": "ylSKlvxVaqEP"
      },
      "source": [
        "y_preds_model4 = model4.predict(X_val)"
      ],
      "execution_count": 55,
      "outputs": []
    },
    {
      "cell_type": "code",
      "metadata": {
        "colab": {
          "base_uri": "https://localhost:8080/"
        },
        "id": "OEEeiSk2aqEP",
        "outputId": "b0e7a0fe-4afe-48c2-e2dc-2b1c7b5ef80b"
      },
      "source": [
        "print(\"XGBoost model's accuracy: \", accuracy_score(y_val, y_preds_model4))"
      ],
      "execution_count": 65,
      "outputs": [
        {
          "output_type": "stream",
          "text": [
            "XGBoost model's accuracy:  0.9078014184397163\n"
          ],
          "name": "stdout"
        }
      ]
    },
    {
      "cell_type": "code",
      "metadata": {
        "colab": {
          "base_uri": "https://localhost:8080/"
        },
        "id": "JfoBy0r5eYvA",
        "outputId": "d40ae4da-b564-417e-f1f1-551336174518"
      },
      "source": [
        "print(\"XGBoost model's F1 Score: \", f1_score(y_val, y_preds_model4, average='weighted')) "
      ],
      "execution_count": 66,
      "outputs": [
        {
          "output_type": "stream",
          "text": [
            "XGBoost model's F1 Score:  0.8740743105128185\n"
          ],
          "name": "stdout"
        }
      ]
    },
    {
      "cell_type": "code",
      "metadata": {
        "colab": {
          "base_uri": "https://localhost:8080/"
        },
        "id": "3STEplp_aqEP",
        "outputId": "8fae000f-b906-4870-9721-313b5c225ad9"
      },
      "source": [
        "print(\"XGBoost model's Classification Report: \\n\", classification_report(y_val, y_preds_model4))"
      ],
      "execution_count": 57,
      "outputs": [
        {
          "output_type": "stream",
          "text": [
            "XGBoost model's Classification Report: \n",
            "               precision    recall  f1-score   support\n",
            "\n",
            "           1       0.40      0.12      0.18        17\n",
            "           2       0.25      0.02      0.04        46\n",
            "           3       0.92      0.99      0.95       642\n",
            "\n",
            "    accuracy                           0.91       705\n",
            "   macro avg       0.52      0.38      0.39       705\n",
            "weighted avg       0.86      0.91      0.87       705\n",
            "\n"
          ],
          "name": "stdout"
        }
      ]
    },
    {
      "cell_type": "markdown",
      "metadata": {
        "id": "sTuxk62aev4v"
      },
      "source": [
        "## Predicting the Output For Testing Dataset"
      ]
    },
    {
      "cell_type": "code",
      "metadata": {
        "id": "7lq4OTQfef3m"
      },
      "source": [
        "test_data = pd.read_csv('/content/drive/MyDrive/twitter_data_test.csv')"
      ],
      "execution_count": 69,
      "outputs": []
    },
    {
      "cell_type": "code",
      "metadata": {
        "colab": {
          "base_uri": "https://localhost:8080/",
          "height": 203
        },
        "id": "10NxhQ2-a_d2",
        "outputId": "f3c36fb4-9c23-4a5e-b5b6-61e639537357"
      },
      "source": [
        "test_data.head()"
      ],
      "execution_count": 70,
      "outputs": [
        {
          "output_type": "execute_result",
          "data": {
            "text/html": [
              "<div>\n",
              "<style scoped>\n",
              "    .dataframe tbody tr th:only-of-type {\n",
              "        vertical-align: middle;\n",
              "    }\n",
              "\n",
              "    .dataframe tbody tr th {\n",
              "        vertical-align: top;\n",
              "    }\n",
              "\n",
              "    .dataframe thead th {\n",
              "        text-align: right;\n",
              "    }\n",
              "</style>\n",
              "<table border=\"1\" class=\"dataframe\">\n",
              "  <thead>\n",
              "    <tr style=\"text-align: right;\">\n",
              "      <th></th>\n",
              "      <th>tweet</th>\n",
              "    </tr>\n",
              "  </thead>\n",
              "  <tbody>\n",
              "    <tr>\n",
              "      <th>0</th>\n",
              "      <td>thank you cadre we must remove any and all bar...</td>\n",
              "    </tr>\n",
              "    <tr>\n",
              "      <th>1</th>\n",
              "      <td>sweden is now operating a fleet of ambulances ...</td>\n",
              "    </tr>\n",
              "    <tr>\n",
              "      <th>2</th>\n",
              "      <td>how do working hours and job strain relate to ...</td>\n",
              "    </tr>\n",
              "    <tr>\n",
              "      <th>3</th>\n",
              "      <td>end panic you can have a future free of</td>\n",
              "    </tr>\n",
              "    <tr>\n",
              "      <th>4</th>\n",
              "      <td>our team understand that mental health workers...</td>\n",
              "    </tr>\n",
              "  </tbody>\n",
              "</table>\n",
              "</div>"
            ],
            "text/plain": [
              "                                               tweet\n",
              "0  thank you cadre we must remove any and all bar...\n",
              "1  sweden is now operating a fleet of ambulances ...\n",
              "2  how do working hours and job strain relate to ...\n",
              "3            end panic you can have a future free of\n",
              "4  our team understand that mental health workers..."
            ]
          },
          "metadata": {},
          "execution_count": 70
        }
      ]
    },
    {
      "cell_type": "code",
      "metadata": {
        "colab": {
          "base_uri": "https://localhost:8080/"
        },
        "id": "JxsZhhwrfSYO",
        "outputId": "e5f7e07f-a762-4686-ebac-2f54ce6bee53"
      },
      "source": [
        "test_data.info()"
      ],
      "execution_count": 71,
      "outputs": [
        {
          "output_type": "stream",
          "text": [
            "<class 'pandas.core.frame.DataFrame'>\n",
            "RangeIndex: 784 entries, 0 to 783\n",
            "Data columns (total 1 columns):\n",
            " #   Column  Non-Null Count  Dtype \n",
            "---  ------  --------------  ----- \n",
            " 0   tweet   784 non-null    object\n",
            "dtypes: object(1)\n",
            "memory usage: 6.2+ KB\n"
          ],
          "name": "stdout"
        }
      ]
    },
    {
      "cell_type": "code",
      "metadata": {
        "id": "mTqAXelkfVDs"
      },
      "source": [
        "test_data['tweet'] = test_data['tweet'].str.lower()\n",
        "\n",
        "\n",
        "def remove_special_characters(text, remove_digits=True):\n",
        "  pattern = r'[^a-zA-Z0-9\\s]' if not remove_digits else r'[^a-zA-Z\\s]'\n",
        "  text = re.sub(pattern, '', str(text))\n",
        "  return text\n",
        "\n",
        "test_data['tweet'] = test_data['tweet'].apply(remove_special_characters, remove_digits=False)\n",
        "\n",
        "def f(r):\n",
        "  wnl = WordNetLemmatizer()\n",
        "  words = nltk.word_tokenize(r)\n",
        "  lemmatized_words = [wnl.lemmatize(word) for word in words if word not in set(stopwords.words('english'))]\n",
        "  return \" \".join(lemmatized_words)\n",
        "\n",
        "test_data['tweet'] = test_data['tweet'].apply(f)"
      ],
      "execution_count": 72,
      "outputs": []
    },
    {
      "cell_type": "code",
      "metadata": {
        "id": "CRb02iqkfZ68"
      },
      "source": [
        "test = cv.transform(test_data['tweet']).toarray()\n",
        "test_data = pd.DataFrame(test, columns=cv.get_feature_names())"
      ],
      "execution_count": 73,
      "outputs": []
    },
    {
      "cell_type": "code",
      "metadata": {
        "id": "EZo5GXBMfd8T"
      },
      "source": [
        "target = model2.predict(test_data)"
      ],
      "execution_count": 74,
      "outputs": []
    },
    {
      "cell_type": "code",
      "metadata": {
        "colab": {
          "base_uri": "https://localhost:8080/",
          "height": 17
        },
        "id": "WC9U6KiVfnMJ",
        "outputId": "36889e30-afc1-4495-8177-68007f06aa43"
      },
      "source": [
        "# To create Dataframe of predicted value with particular respective index\n",
        "res = pd.DataFrame(target) # target are nothing but the final predictions of your model on input features of your new unseen test data\n",
        "res.columns = [\"prediction\"]\n",
        "\n",
        "# To download the csv file locally\n",
        "from google.colab import files\n",
        "res.to_csv('submission.csv', index = False)\n",
        "files.download('submission.csv')"
      ],
      "execution_count": 75,
      "outputs": [
        {
          "output_type": "display_data",
          "data": {
            "application/javascript": [
              "\n",
              "    async function download(id, filename, size) {\n",
              "      if (!google.colab.kernel.accessAllowed) {\n",
              "        return;\n",
              "      }\n",
              "      const div = document.createElement('div');\n",
              "      const label = document.createElement('label');\n",
              "      label.textContent = `Downloading \"${filename}\": `;\n",
              "      div.appendChild(label);\n",
              "      const progress = document.createElement('progress');\n",
              "      progress.max = size;\n",
              "      div.appendChild(progress);\n",
              "      document.body.appendChild(div);\n",
              "\n",
              "      const buffers = [];\n",
              "      let downloaded = 0;\n",
              "\n",
              "      const channel = await google.colab.kernel.comms.open(id);\n",
              "      // Send a message to notify the kernel that we're ready.\n",
              "      channel.send({})\n",
              "\n",
              "      for await (const message of channel.messages) {\n",
              "        // Send a message to notify the kernel that we're ready.\n",
              "        channel.send({})\n",
              "        if (message.buffers) {\n",
              "          for (const buffer of message.buffers) {\n",
              "            buffers.push(buffer);\n",
              "            downloaded += buffer.byteLength;\n",
              "            progress.value = downloaded;\n",
              "          }\n",
              "        }\n",
              "      }\n",
              "      const blob = new Blob(buffers, {type: 'application/binary'});\n",
              "      const a = document.createElement('a');\n",
              "      a.href = window.URL.createObjectURL(blob);\n",
              "      a.download = filename;\n",
              "      div.appendChild(a);\n",
              "      a.click();\n",
              "      div.remove();\n",
              "    }\n",
              "  "
            ],
            "text/plain": [
              "<IPython.core.display.Javascript object>"
            ]
          },
          "metadata": {}
        },
        {
          "output_type": "display_data",
          "data": {
            "application/javascript": [
              "download(\"download_2de4d733-cbc4-4973-b801-917a08d8610b\", \"submission.csv\", 1579)"
            ],
            "text/plain": [
              "<IPython.core.display.Javascript object>"
            ]
          },
          "metadata": {}
        }
      ]
    }
  ]
}